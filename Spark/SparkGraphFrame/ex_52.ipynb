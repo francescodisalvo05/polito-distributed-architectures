{
 "cells": [
  {
   "cell_type": "markdown",
   "id": "champion-champion",
   "metadata": {},
   "source": [
    "## Exercise 52 - inDegrees"
   ]
  },
  {
   "cell_type": "code",
   "execution_count": 9,
   "id": "executed-pharmacology",
   "metadata": {},
   "outputs": [],
   "source": [
    "from graphframes import GraphFrame\n",
    "\n",
    "inputPathVertexes = \"/data/students/bigdata-01QYD/ex_data/Ex52/data/vertexes.csv\"\n",
    "inputPathEdges = \"/data/students/bigdata-01QYD/ex_data/Ex52/data/edges.csv\"\n",
    "outputPath = \"resOut_ex52/\""
   ]
  },
  {
   "cell_type": "code",
   "execution_count": 7,
   "id": "accompanied-revolution",
   "metadata": {},
   "outputs": [],
   "source": [
    "# read vertices and edges\n",
    "verticesDF = spark.read.load(inputPathVertexes, format=\"csv\", header=True, inferSchema=True)\n",
    "edgesDF = spark.read.load(inputPathEdges, format=\"csv\", header=True, inferSchema=True)"
   ]
  },
  {
   "cell_type": "code",
   "execution_count": 4,
   "id": "adjustable-symbol",
   "metadata": {},
   "outputs": [
    {
     "name": "stdout",
     "output_type": "stream",
     "text": [
      "root\n",
      " |-- id: string (nullable = true)\n",
      " |-- name: string (nullable = true)\n",
      " |-- age: integer (nullable = true)\n",
      "\n",
      "+---+-----+---+\n",
      "| id| name|age|\n",
      "+---+-----+---+\n",
      "| u1|Alice| 34|\n",
      "| u2|  Bob| 36|\n",
      "| u3| John| 30|\n",
      "| u4|David| 29|\n",
      "| u5| Paul| 32|\n",
      "| u6| Adel| 36|\n",
      "| u7| Eddy| 60|\n",
      "+---+-----+---+\n",
      "\n"
     ]
    }
   ],
   "source": [
    "verticesDF.printSchema()\n",
    "verticesDF.show()"
   ]
  },
  {
   "cell_type": "code",
   "execution_count": 5,
   "id": "guided-habitat",
   "metadata": {},
   "outputs": [
    {
     "name": "stdout",
     "output_type": "stream",
     "text": [
      "root\n",
      " |-- src: string (nullable = true)\n",
      " |-- dst: string (nullable = true)\n",
      " |-- linktype: string (nullable = true)\n",
      "\n",
      "+---+---+--------+\n",
      "|src|dst|linktype|\n",
      "+---+---+--------+\n",
      "| u1| u2|  friend|\n",
      "| u1| u4|  friend|\n",
      "| u1| u5|  friend|\n",
      "| u2| u1|  friend|\n",
      "| u2| u3|  follow|\n",
      "| u3| u2|  follow|\n",
      "| u4| u1|  friend|\n",
      "| u4| u5|  friend|\n",
      "| u5| u1|  friend|\n",
      "| u5| u4|  friend|\n",
      "| u5| u6|  follow|\n",
      "| u6| u3|  follow|\n",
      "| u7| u6|  follow|\n",
      "+---+---+--------+\n",
      "\n"
     ]
    }
   ],
   "source": [
    "edgesDF.printSchema()\n",
    "edgesDF.show()"
   ]
  },
  {
   "cell_type": "markdown",
   "id": "generic-indonesian",
   "metadata": {},
   "source": [
    "For each user with at least one follower, store in the output folder the number of followers <br />\n",
    "▪ One user per line <br />\n",
    "▪ Format: user id, number of followers <br />"
   ]
  },
  {
   "cell_type": "code",
   "execution_count": 29,
   "id": "sexual-puppy",
   "metadata": {},
   "outputs": [],
   "source": [
    "# get just the \"follow\" relationships\n",
    "filteredEdges = edgesDF.filter(\"linktype = 'follow'\")\n",
    "\n",
    "# build the \"filtered\" graph\n",
    "g = GraphFrame(verticesDF, filteredEdges)\n",
    "\n",
    "# we don't need to drop the isolated vertices\n",
    "# because they won't have entering edges\n",
    "nFollowersDF = g.inDegrees"
   ]
  },
  {
   "cell_type": "code",
   "execution_count": 30,
   "id": "auburn-contribution",
   "metadata": {},
   "outputs": [
    {
     "name": "stdout",
     "output_type": "stream",
     "text": [
      "+---+----------+\n",
      "| id|nFollowers|\n",
      "+---+----------+\n",
      "| u3|         2|\n",
      "| u6|         2|\n",
      "| u2|         1|\n",
      "+---+----------+\n",
      "\n"
     ]
    }
   ],
   "source": [
    "nFollowersDF = nFollowersDF.withColumnRenamed(\"inDegree\",\"nFollowers\")\n",
    "nFollowersDF.show()"
   ]
  },
  {
   "cell_type": "code",
   "execution_count": null,
   "id": "organized-scanner",
   "metadata": {},
   "outputs": [],
   "source": [
    "nFollowersDF.write.csv(outputPath, format=\"csv\")"
   ]
  },
  {
   "cell_type": "markdown",
   "id": "meaningful-setting",
   "metadata": {},
   "source": [
    "## V2 : Less optimized way"
   ]
  },
  {
   "cell_type": "code",
   "execution_count": 32,
   "id": "civil-jumping",
   "metadata": {},
   "outputs": [
    {
     "name": "stdout",
     "output_type": "stream",
     "text": [
      "+---+----------+\n",
      "| id|nFollowers|\n",
      "+---+----------+\n",
      "| u3|         2|\n",
      "| u6|         2|\n",
      "| u2|         1|\n",
      "+---+----------+\n",
      "\n"
     ]
    }
   ],
   "source": [
    "# filter the edges once you have already built the graph\n",
    "g2 = GraphFrame(verticesDF, edgesDF).filterEdges(\"linktype = 'follow'\")\n",
    "\n",
    "nFollowersDF2 = g2.inDegrees\n",
    "nFollowersDF2 = nFollowersDF2.withColumnRenamed(\"inDegree\",\"nFollowers\")\n",
    "nFollowersDF2.show()"
   ]
  }
 ],
 "metadata": {
  "kernelspec": {
   "display_name": "GraphFrames (Yarn)",
   "language": "python",
   "name": "graphframe_yarn"
  },
  "language_info": {
   "codemirror_mode": {
    "name": "ipython",
    "version": 3
   },
   "file_extension": ".py",
   "mimetype": "text/x-python",
   "name": "python",
   "nbconvert_exporter": "python",
   "pygments_lexer": "ipython3",
   "version": "3.7.9"
  }
 },
 "nbformat": 4,
 "nbformat_minor": 5
}
