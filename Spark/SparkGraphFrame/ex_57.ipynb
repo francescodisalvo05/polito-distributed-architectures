{
 "cells": [
  {
   "cell_type": "markdown",
   "id": "abandoned-wedding",
   "metadata": {},
   "source": [
    "## Exercise 57 - Shortest Path"
   ]
  },
  {
   "cell_type": "code",
   "execution_count": 1,
   "id": "frequent-custody",
   "metadata": {},
   "outputs": [],
   "source": [
    "from graphframes import GraphFrame\n",
    "\n",
    "inputPathVertexes = \"/data/students/bigdata-01QYD/ex_data/Ex57/data/vertexes.csv\"\n",
    "inputPathEdges = \"/data/students/bigdata-01QYD/ex_data/Ex57/data/edges.csv\"\n",
    "outputPath = \"resOut_ex57/\""
   ]
  },
  {
   "cell_type": "code",
   "execution_count": 2,
   "id": "precious-state",
   "metadata": {},
   "outputs": [],
   "source": [
    "verticesDF = spark.read.load(inputPathVertexes, format=\"csv\", header=True, inferSchema=True)\n",
    "edgesDF = spark.read.load(inputPathEdges, format=\"csv\", header=True, inferSchema=True)"
   ]
  },
  {
   "cell_type": "code",
   "execution_count": 3,
   "id": "educational-relationship",
   "metadata": {},
   "outputs": [
    {
     "name": "stdout",
     "output_type": "stream",
     "text": [
      "+---+-----+---+\n",
      "| id| name|age|\n",
      "+---+-----+---+\n",
      "| u1|Alice| 34|\n",
      "| u2|  Bob| 36|\n",
      "| u3| John| 30|\n",
      "| u4|David| 29|\n",
      "| u5| Paul| 32|\n",
      "| u6| Adel| 36|\n",
      "| u7| Eddy| 60|\n",
      "+---+-----+---+\n",
      "\n"
     ]
    }
   ],
   "source": [
    "verticesDF.show()"
   ]
  },
  {
   "cell_type": "code",
   "execution_count": 4,
   "id": "sunset-presentation",
   "metadata": {},
   "outputs": [
    {
     "name": "stdout",
     "output_type": "stream",
     "text": [
      "+---+---+--------+\n",
      "|src|dst|linktype|\n",
      "+---+---+--------+\n",
      "| u1| u2|  friend|\n",
      "| u1| u4|  friend|\n",
      "| u1| u5|  friend|\n",
      "| u2| u1|  friend|\n",
      "| u2| u3|  follow|\n",
      "| u3| u2|  follow|\n",
      "| u4| u1|  friend|\n",
      "| u4| u5|  friend|\n",
      "| u5| u1|  friend|\n",
      "| u5| u4|  friend|\n",
      "| u5| u6|  follow|\n",
      "| u6| u3|  follow|\n",
      "+---+---+--------+\n",
      "\n"
     ]
    }
   ],
   "source": [
    "edgesDF.show()"
   ]
  },
  {
   "cell_type": "markdown",
   "id": "mature-manchester",
   "metadata": {},
   "source": [
    "Output:\n",
    "* Select the users who can reach user u1 in less than 3 hops (i.e., at most two edges)\n",
    "    * Do not consider u1 itself\n",
    "* For each of the selected users, store in the output folder his/her name and the minimum number of hops to reach user u1\n",
    "    * One user per line\n",
    "    * Format: user name, #hops to user u1\n",
    "* Use the CSV format to store the result"
   ]
  },
  {
   "cell_type": "code",
   "execution_count": 7,
   "id": "descending-phoenix",
   "metadata": {},
   "outputs": [
    {
     "name": "stdout",
     "output_type": "stream",
     "text": [
      "+---+-----+---+---------+\n",
      "| id| name|age|distances|\n",
      "+---+-----+---+---------+\n",
      "| u6| Adel| 36|[u1 -> 3]|\n",
      "| u3| John| 30|[u1 -> 2]|\n",
      "| u2|  Bob| 36|[u1 -> 1]|\n",
      "| u4|David| 29|[u1 -> 1]|\n",
      "| u5| Paul| 32|[u1 -> 1]|\n",
      "| u1|Alice| 34|[u1 -> 0]|\n",
      "| u7| Eddy| 60|       []|\n",
      "+---+-----+---+---------+\n",
      "\n"
     ]
    }
   ],
   "source": [
    "g = GraphFrame(verticesDF, edgesDF)\n",
    "\n",
    "shortestPathsLength = g.shortestPaths(['u1'])\n",
    "shortestPathsLength.show()"
   ]
  },
  {
   "cell_type": "code",
   "execution_count": 11,
   "id": "facial-nowhere",
   "metadata": {},
   "outputs": [
    {
     "name": "stdout",
     "output_type": "stream",
     "text": [
      "+---+-----+---+---------+\n",
      "| id| name|age|distances|\n",
      "+---+-----+---+---------+\n",
      "| u3| John| 30|[u1 -> 2]|\n",
      "| u2|  Bob| 36|[u1 -> 1]|\n",
      "| u4|David| 29|[u1 -> 1]|\n",
      "| u5| Paul| 32|[u1 -> 1]|\n",
      "+---+-----+---+---------+\n",
      "\n"
     ]
    }
   ],
   "source": [
    "filteredShortestPathsLength = shortestPathsLength.filter(\"distances.u1 < 3 AND id <> 'u1'\")\n",
    "filteredShortestPathsLength.show()"
   ]
  },
  {
   "cell_type": "code",
   "execution_count": 13,
   "id": "professional-miniature",
   "metadata": {},
   "outputs": [
    {
     "name": "stdout",
     "output_type": "stream",
     "text": [
      "+-----+-------+\n",
      "| name|numHops|\n",
      "+-----+-------+\n",
      "| John|      2|\n",
      "|  Bob|      1|\n",
      "|David|      1|\n",
      "| Paul|      1|\n",
      "+-----+-------+\n",
      "\n"
     ]
    }
   ],
   "source": [
    "cleanedOutput = filteredShortestPathsLength.selectExpr(\"name\",\"distances['u1'] as numHops\")\n",
    "cleanedOutput.show()"
   ]
  },
  {
   "cell_type": "code",
   "execution_count": 14,
   "id": "metric-russian",
   "metadata": {},
   "outputs": [],
   "source": [
    "cleanedOutput.write.csv(outputPath, header=True)"
   ]
  }
 ],
 "metadata": {
  "kernelspec": {
   "display_name": "GraphFrames (Yarn)",
   "language": "python",
   "name": "graphframe_yarn"
  },
  "language_info": {
   "codemirror_mode": {
    "name": "ipython",
    "version": 3
   },
   "file_extension": ".py",
   "mimetype": "text/x-python",
   "name": "python",
   "nbconvert_exporter": "python",
   "pygments_lexer": "ipython3",
   "version": "3.7.9"
  }
 },
 "nbformat": 4,
 "nbformat_minor": 5
}
