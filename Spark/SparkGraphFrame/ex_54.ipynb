{
 "cells": [
  {
   "cell_type": "markdown",
   "id": "duplicate-encounter",
   "metadata": {},
   "source": [
    "## Exercise 54 - MOTIF"
   ]
  },
  {
   "cell_type": "code",
   "execution_count": 1,
   "id": "comprehensive-publicity",
   "metadata": {},
   "outputs": [],
   "source": [
    "from graphframes import GraphFrame\n",
    "\n",
    "inputPathVertexes = \"/data/students/bigdata-01QYD/ex_data/Ex54/data/vertexes.csv\"\n",
    "inputPathEdges = \"/data/students/bigdata-01QYD/ex_data/Ex54/data/edges.csv\"\n",
    "outputPath = \"resOut_ex54/\""
   ]
  },
  {
   "cell_type": "code",
   "execution_count": 2,
   "id": "falling-browser",
   "metadata": {},
   "outputs": [],
   "source": [
    "verticesDF = spark.read.load(inputPathVertexes, format=\"csv\", header=True, inferSchema=True)\n",
    "edgesDF = spark.read.load(inputPathEdges, format=\"csv\", header=True, inferSchema=True)"
   ]
  },
  {
   "cell_type": "code",
   "execution_count": 3,
   "id": "favorite-louis",
   "metadata": {},
   "outputs": [
    {
     "name": "stdout",
     "output_type": "stream",
     "text": [
      "root\n",
      " |-- id: string (nullable = true)\n",
      " |-- name: string (nullable = true)\n",
      " |-- age: integer (nullable = true)\n",
      "\n",
      "+---+-----+---+\n",
      "| id| name|age|\n",
      "+---+-----+---+\n",
      "| u1|Alice| 34|\n",
      "| u2|  Bob| 36|\n",
      "| u3| John| 30|\n",
      "| u4|David| 29|\n",
      "| u5| Paul| 32|\n",
      "| u6| Adel| 36|\n",
      "| u7| Eddy| 60|\n",
      "+---+-----+---+\n",
      "\n"
     ]
    }
   ],
   "source": [
    "verticesDF.printSchema()\n",
    "verticesDF.show()"
   ]
  },
  {
   "cell_type": "code",
   "execution_count": 4,
   "id": "uniform-fields",
   "metadata": {},
   "outputs": [
    {
     "name": "stdout",
     "output_type": "stream",
     "text": [
      "root\n",
      " |-- src: string (nullable = true)\n",
      " |-- dst: string (nullable = true)\n",
      " |-- linktype: string (nullable = true)\n",
      "\n",
      "+---+---+--------+\n",
      "|src|dst|linktype|\n",
      "+---+---+--------+\n",
      "| u1| u2|  friend|\n",
      "| u1| u5|  friend|\n",
      "| u2| u3|  follow|\n",
      "| u3| u2|  follow|\n",
      "| u4| u1|  friend|\n",
      "| u4| u5|  friend|\n",
      "| u5| u1|  friend|\n",
      "| u5| u4|  friend|\n",
      "| u5| u6|  follow|\n",
      "| u6| u3|  follow|\n",
      "| u7| u6|  follow|\n",
      "+---+---+--------+\n",
      "\n"
     ]
    }
   ],
   "source": [
    "edgesDF.printSchema()\n",
    "edgesDF.show()"
   ]
  },
  {
   "cell_type": "markdown",
   "id": "czech-information",
   "metadata": {},
   "source": [
    "Consider :\n",
    "* The pairs of users Ux, Uy such that \n",
    "    * Ux is friend of Uy (link “friend” from Ux to Uy)\n",
    "    * Uy is not friend of Uy (no link “friend” from Uy to Ux)\n",
    "* One pair Ux,Uy per line\n",
    "* Format: idUx, idUy\n",
    "* Use the CSV format to store the result"
   ]
  },
  {
   "cell_type": "code",
   "execution_count": 14,
   "id": "fleet-pottery",
   "metadata": {},
   "outputs": [],
   "source": [
    "filteredEdges = edgesDF.filter(\"linktype='friend' \")\n",
    "g = GraphFrame(verticesDF, filteredEdges)"
   ]
  },
  {
   "cell_type": "code",
   "execution_count": 16,
   "id": "referenced-polymer",
   "metadata": {},
   "outputs": [
    {
     "name": "stdout",
     "output_type": "stream",
     "text": [
      "+---------------+---------------+\n",
      "|          UserX|          UserY|\n",
      "+---------------+---------------+\n",
      "|[u4, David, 29]|[u1, Alice, 34]|\n",
      "|[u1, Alice, 34]|  [u2, Bob, 36]|\n",
      "+---------------+---------------+\n",
      "\n"
     ]
    }
   ],
   "source": [
    "# since we're dealing with all \"friend\" edges, \n",
    "# we can use anonymous edges\n",
    "selectedPaths = g.find(\"(UserX)-[]->(UserY); !(UserY)-[]->(UserX)\")\n",
    "selectedPaths.show()"
   ]
  },
  {
   "cell_type": "code",
   "execution_count": 17,
   "id": "portable-sarah",
   "metadata": {},
   "outputs": [
    {
     "name": "stdout",
     "output_type": "stream",
     "text": [
      "+----+----+\n",
      "|idUx|idUy|\n",
      "+----+----+\n",
      "|  u4|  u1|\n",
      "|  u1|  u2|\n",
      "+----+----+\n",
      "\n"
     ]
    }
   ],
   "source": [
    "# extract just the IDs\n",
    "cleanedSelectedPaths = selectedPaths.selectExpr(\"UserX.id as idUx\", \"UserY.id as idUy\")\n",
    "cleanedSelectedPaths.show()"
   ]
  },
  {
   "cell_type": "code",
   "execution_count": 18,
   "id": "accessible-standing",
   "metadata": {},
   "outputs": [],
   "source": [
    "cleanedSelectedPaths.write.csv(outputPath, header=True)"
   ]
  }
 ],
 "metadata": {
  "kernelspec": {
   "display_name": "GraphFrames (Yarn)",
   "language": "python",
   "name": "graphframe_yarn"
  },
  "language_info": {
   "codemirror_mode": {
    "name": "ipython",
    "version": 3
   },
   "file_extension": ".py",
   "mimetype": "text/x-python",
   "name": "python",
   "nbconvert_exporter": "python",
   "pygments_lexer": "ipython3",
   "version": "3.7.9"
  }
 },
 "nbformat": 4,
 "nbformat_minor": 5
}
