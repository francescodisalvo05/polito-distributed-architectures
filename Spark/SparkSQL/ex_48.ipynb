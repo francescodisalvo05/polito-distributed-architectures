{
 "cells": [
  {
   "cell_type": "markdown",
   "id": "urban-galaxy",
   "metadata": {},
   "source": [
    " ## Exercise 48 - GroupBy"
   ]
  },
  {
   "cell_type": "code",
   "execution_count": 19,
   "id": "royal-synthesis",
   "metadata": {},
   "outputs": [],
   "source": [
    "from pyspark.sql import SparkSession\n",
    "\n",
    "spark = SparkSession.builder.getOrCreate()\n",
    "\n",
    "inputPath = \"/data/students/bigdata-01QYD/ex_data/Ex48/data\"\n",
    "outputPathV1 = \"res_out_Ex48V1/\"\n",
    "outputPathV2 = \"res_out_Ex48V2/\""
   ]
  },
  {
   "cell_type": "markdown",
   "id": "automated-drain",
   "metadata": {},
   "source": [
    "__input__ : \n",
    "* A CSV file containing a list of user profiles : _name, age, gender_\n",
    "\n",
    "__output__ : \n",
    "*  Select the names occurring at least two times and store in the output folder name and average(age) of the selected names"
   ]
  },
  {
   "cell_type": "markdown",
   "id": "tropical-employment",
   "metadata": {},
   "source": [
    "### DataFrames"
   ]
  },
  {
   "cell_type": "code",
   "execution_count": 4,
   "id": "finite-conflict",
   "metadata": {},
   "outputs": [
    {
     "name": "stdout",
     "output_type": "stream",
     "text": [
      "+-----+---+------+\n",
      "| name|age|gender|\n",
      "+-----+---+------+\n",
      "| Paul| 40|  male|\n",
      "| Paul| 38|  male|\n",
      "|David| 15|  male|\n",
      "|Susan| 40|female|\n",
      "|Susan| 34|female|\n",
      "+-----+---+------+\n",
      "\n"
     ]
    }
   ],
   "source": [
    "# map into (movieid , userid)\n",
    "df = spark.read.load(inputPath, format=\"csv\", header=True, inferSchema=True)\n",
    "df.show()"
   ]
  },
  {
   "cell_type": "code",
   "execution_count": 7,
   "id": "noticed-contest",
   "metadata": {},
   "outputs": [
    {
     "name": "stdout",
     "output_type": "stream",
     "text": [
      "+-----+-----------+--------+\n",
      "| name|count(name)|avg(age)|\n",
      "+-----+-----------+--------+\n",
      "|Susan|          2|    37.0|\n",
      "|David|          1|    15.0|\n",
      "| Paul|          2|    39.0|\n",
      "+-----+-----------+--------+\n",
      "\n"
     ]
    }
   ],
   "source": [
    "df_grouped = df.groupBy(\"name\").agg({\"name\": \"count\", \"age\": \"avg\"})\n",
    "df_grouped.show()"
   ]
  },
  {
   "cell_type": "code",
   "execution_count": 9,
   "id": "immune-wallpaper",
   "metadata": {},
   "outputs": [
    {
     "name": "stdout",
     "output_type": "stream",
     "text": [
      "+-----+--------+\n",
      "| name|avg(age)|\n",
      "+-----+--------+\n",
      "|Susan|    37.0|\n",
      "| Paul|    39.0|\n",
      "+-----+--------+\n",
      "\n"
     ]
    }
   ],
   "source": [
    "df_grouped_filtered = df_grouped.filter(\"count(name) >= 2\").select(\"name\", \"avg(age)\")\n",
    "df_grouped_filtered.show()"
   ]
  },
  {
   "cell_type": "code",
   "execution_count": 10,
   "id": "stable-scenario",
   "metadata": {},
   "outputs": [],
   "source": [
    "df_grouped_filtered.write.csv(outputPathV1, header=True)"
   ]
  },
  {
   "cell_type": "markdown",
   "id": "juvenile-romance",
   "metadata": {},
   "source": [
    "### SQL"
   ]
  },
  {
   "cell_type": "code",
   "execution_count": 15,
   "id": "northern-office",
   "metadata": {},
   "outputs": [],
   "source": [
    "df_sql = spark.read.load(inputPath, format=\"csv\", header=True, inferSchema=True)\n",
    "df_sql.createOrReplaceTempView(\"people\")\n",
    "\n",
    "df_sql_updated = spark.sql(\"\"\"  SELECT name, avg(age) as avg_age\n",
    "                                FROM people\n",
    "                                GROUP BY name\n",
    "                                HAVING count(*)>=2\n",
    "                            \"\"\")"
   ]
  },
  {
   "cell_type": "code",
   "execution_count": 16,
   "id": "looking-papua",
   "metadata": {},
   "outputs": [
    {
     "name": "stdout",
     "output_type": "stream",
     "text": [
      "+-----+-------+\n",
      "| name|avg_age|\n",
      "+-----+-------+\n",
      "|Susan|   37.0|\n",
      "| Paul|   39.0|\n",
      "+-----+-------+\n",
      "\n"
     ]
    }
   ],
   "source": [
    "df_sql_updated.show()"
   ]
  },
  {
   "cell_type": "code",
   "execution_count": 17,
   "id": "seasonal-invasion",
   "metadata": {},
   "outputs": [],
   "source": [
    "df_sql_updated.write.csv(outputPathV2, header=False)"
   ]
  }
 ],
 "metadata": {
  "kernelspec": {
   "display_name": "PySpark (Local)",
   "language": "python",
   "name": "pyspark_local"
  },
  "language_info": {
   "codemirror_mode": {
    "name": "ipython",
    "version": 3
   },
   "file_extension": ".py",
   "mimetype": "text/x-python",
   "name": "python",
   "nbconvert_exporter": "python",
   "pygments_lexer": "ipython3",
   "version": "3.7.9"
  }
 },
 "nbformat": 4,
 "nbformat_minor": 5
}
