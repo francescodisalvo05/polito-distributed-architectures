{
 "cells": [
  {
   "cell_type": "markdown",
   "id": "general-understanding",
   "metadata": {},
   "source": [
    " ## Exercise 50 - UDF"
   ]
  },
  {
   "cell_type": "code",
   "execution_count": 1,
   "id": "commercial-lodge",
   "metadata": {},
   "outputs": [],
   "source": [
    "from pyspark.sql import SparkSession\n",
    "\n",
    "spark = SparkSession.builder.getOrCreate()\n",
    "\n",
    "inputPath = \"/data/students/bigdata-01QYD/ex_data/Ex50/data\"\n",
    "outputPathV1 = \"res_out_Ex50/\""
   ]
  },
  {
   "cell_type": "markdown",
   "id": "magnetic-graph",
   "metadata": {},
   "source": [
    "__input__ : \n",
    "* A CSV file containing a list of user profiles : _name, age, gender_\n",
    "\n",
    "__output__ : \n",
    "*  A csv file containing one single column called \"name_surname\" of type String\n",
    "    * name_surname = name+\" \"+surname"
   ]
  },
  {
   "cell_type": "markdown",
   "id": "greek-fleece",
   "metadata": {},
   "source": [
    "### DataFrames"
   ]
  },
  {
   "cell_type": "code",
   "execution_count": 2,
   "id": "weekly-volunteer",
   "metadata": {},
   "outputs": [
    {
     "name": "stdout",
     "output_type": "stream",
     "text": [
      "+-----+-------+---+\n",
      "| name|surname|age|\n",
      "+-----+-------+---+\n",
      "|Paolo|  Garza| 42|\n",
      "| Luca| Boccia| 41|\n",
      "|Maura|Bianchi| 16|\n",
      "+-----+-------+---+\n",
      "\n"
     ]
    }
   ],
   "source": [
    "# map into (movieid , userid)\n",
    "df = spark.read.load(inputPath, format=\"csv\", header=True, inferSchema=True)\n",
    "df.show()"
   ]
  },
  {
   "cell_type": "code",
   "execution_count": 3,
   "id": "organized-latter",
   "metadata": {},
   "outputs": [
    {
     "data": {
      "text/plain": [
       "<function __main__.<lambda>(name, surname)>"
      ]
     },
     "execution_count": 3,
     "metadata": {},
     "output_type": "execute_result"
    }
   ],
   "source": [
    "spark.udf.register(\"ConcatFullName\", lambda name,surname: name + \" \" + surname)"
   ]
  },
  {
   "cell_type": "code",
   "execution_count": 6,
   "id": "korean-distribution",
   "metadata": {},
   "outputs": [],
   "source": [
    "df_concat = df.selectExpr(\"ConcatFullName(name,surname) as name_surname\")"
   ]
  },
  {
   "cell_type": "code",
   "execution_count": 7,
   "id": "decimal-protest",
   "metadata": {},
   "outputs": [
    {
     "name": "stdout",
     "output_type": "stream",
     "text": [
      "+-------------+\n",
      "| name_surname|\n",
      "+-------------+\n",
      "|  Paolo Garza|\n",
      "|  Luca Boccia|\n",
      "|Maura Bianchi|\n",
      "+-------------+\n",
      "\n"
     ]
    }
   ],
   "source": [
    "df_concat.show()"
   ]
  },
  {
   "cell_type": "markdown",
   "id": "dynamic-index",
   "metadata": {},
   "source": [
    "### SQL"
   ]
  },
  {
   "cell_type": "code",
   "execution_count": 9,
   "id": "sealed-report",
   "metadata": {},
   "outputs": [],
   "source": [
    "df.createOrReplaceTempView(\"people\")"
   ]
  },
  {
   "cell_type": "code",
   "execution_count": 10,
   "id": "quality-colonial",
   "metadata": {},
   "outputs": [
    {
     "name": "stdout",
     "output_type": "stream",
     "text": [
      "+-------------+\n",
      "| name_surname|\n",
      "+-------------+\n",
      "|  Paolo Garza|\n",
      "|  Luca Boccia|\n",
      "|Maura Bianchi|\n",
      "+-------------+\n",
      "\n"
     ]
    }
   ],
   "source": [
    "df_sql_binned = spark.sql(\"\"\"\n",
    "                             SELECT ConcatFullName(name,surname) as name_surname\n",
    "                             FROM people\n",
    "                          \"\"\")\n",
    "df_sql_binned.show()"
   ]
  }
 ],
 "metadata": {
  "kernelspec": {
   "display_name": "PySpark (Local)",
   "language": "python",
   "name": "pyspark_local"
  },
  "language_info": {
   "codemirror_mode": {
    "name": "ipython",
    "version": 3
   },
   "file_extension": ".py",
   "mimetype": "text/x-python",
   "name": "python",
   "nbconvert_exporter": "python",
   "pygments_lexer": "ipython3",
   "version": "3.7.9"
  }
 },
 "nbformat": 4,
 "nbformat_minor": 5
}
