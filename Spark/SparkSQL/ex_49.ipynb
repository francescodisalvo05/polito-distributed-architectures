{
 "cells": [
  {
   "cell_type": "markdown",
   "id": "legendary-survival",
   "metadata": {},
   "source": [
    " ## Exercise 49 - UDF"
   ]
  },
  {
   "cell_type": "code",
   "execution_count": 14,
   "id": "reverse-marble",
   "metadata": {},
   "outputs": [],
   "source": [
    "from pyspark.sql import SparkSession\n",
    "\n",
    "spark = SparkSession.builder.getOrCreate()\n",
    "\n",
    "inputPath = \"/data/students/bigdata-01QYD/ex_data/Ex49/data\"\n",
    "outputPathV1 = \"res_out_Ex49/\""
   ]
  },
  {
   "cell_type": "markdown",
   "id": "pleased-verse",
   "metadata": {},
   "source": [
    "__input__ : \n",
    "* A CSV file containing a list of user profiles : _name, age, gender_\n",
    "\n",
    "__output__ : \n",
    "*  A CSV file containing one line for each profile. The original age attribute is substituted with a new attributed called rangeage of type String : \n",
    "    * rangeage = \"[\" + (age/10)*10 + \"-\" + (age/10)*10 +9\"]\""
   ]
  },
  {
   "cell_type": "markdown",
   "id": "opposed-possibility",
   "metadata": {},
   "source": [
    "### DataFrames"
   ]
  },
  {
   "cell_type": "code",
   "execution_count": 17,
   "id": "intimate-administrator",
   "metadata": {},
   "outputs": [
    {
     "name": "stdout",
     "output_type": "stream",
     "text": [
      "+-----+-------+---+\n",
      "| name|surname|age|\n",
      "+-----+-------+---+\n",
      "|Paolo|  Garza| 42|\n",
      "| Luca| Boccia| 41|\n",
      "|Maura|Bianchi| 16|\n",
      "+-----+-------+---+\n",
      "\n"
     ]
    }
   ],
   "source": [
    "# map into (movieid , userid)\n",
    "df = spark.read.load(inputPath, format=\"csv\", header=True, inferSchema=True)\n",
    "df.show()"
   ]
  },
  {
   "cell_type": "code",
   "execution_count": 19,
   "id": "successful-google",
   "metadata": {},
   "outputs": [
    {
     "data": {
      "text/plain": [
       "<function __main__.<lambda>(age)>"
      ]
     },
     "execution_count": 19,
     "metadata": {},
     "output_type": "execute_result"
    }
   ],
   "source": [
    "spark.udf.register(\"AgeBinning\", lambda age: \"[\"+str((age//10)*10)+\"-\"+str((age//10)*10+9)+\"]\")"
   ]
  },
  {
   "cell_type": "code",
   "execution_count": 20,
   "id": "refined-longitude",
   "metadata": {},
   "outputs": [],
   "source": [
    "df_binned = df.selectExpr(\"name\", \"surname\", \"AgeBinning(age) as rangeage\")"
   ]
  },
  {
   "cell_type": "code",
   "execution_count": 21,
   "id": "compliant-startup",
   "metadata": {},
   "outputs": [
    {
     "name": "stdout",
     "output_type": "stream",
     "text": [
      "+-----+-------+--------+\n",
      "| name|surname|rangeage|\n",
      "+-----+-------+--------+\n",
      "|Paolo|  Garza| [40-49]|\n",
      "| Luca| Boccia| [40-49]|\n",
      "|Maura|Bianchi| [10-19]|\n",
      "+-----+-------+--------+\n",
      "\n"
     ]
    }
   ],
   "source": [
    "df_binned.show()"
   ]
  },
  {
   "cell_type": "markdown",
   "id": "lightweight-associate",
   "metadata": {},
   "source": [
    "### SQL"
   ]
  },
  {
   "cell_type": "code",
   "execution_count": 24,
   "id": "inappropriate-contrast",
   "metadata": {},
   "outputs": [],
   "source": [
    "df.createOrReplaceTempView(\"people\")"
   ]
  },
  {
   "cell_type": "code",
   "execution_count": 26,
   "id": "suburban-joseph",
   "metadata": {},
   "outputs": [
    {
     "name": "stdout",
     "output_type": "stream",
     "text": [
      "+-----+-------+----------+\n",
      "| name|surname|binned_age|\n",
      "+-----+-------+----------+\n",
      "|Paolo|  Garza|   [40-49]|\n",
      "| Luca| Boccia|   [40-49]|\n",
      "|Maura|Bianchi|   [10-19]|\n",
      "+-----+-------+----------+\n",
      "\n"
     ]
    }
   ],
   "source": [
    "df_sql_binned = spark.sql(\"\"\"\n",
    "                             SELECT name, surname, AgeBinning(age) as binned_age\n",
    "                             FROM people\n",
    "                          \"\"\")\n",
    "df_sql_binned.show()"
   ]
  }
 ],
 "metadata": {
  "kernelspec": {
   "display_name": "PySpark (Local)",
   "language": "python",
   "name": "pyspark_local"
  },
  "language_info": {
   "codemirror_mode": {
    "name": "ipython",
    "version": 3
   },
   "file_extension": ".py",
   "mimetype": "text/x-python",
   "name": "python",
   "nbconvert_exporter": "python",
   "pygments_lexer": "ipython3",
   "version": "3.7.9"
  }
 },
 "nbformat": 4,
 "nbformat_minor": 5
}
