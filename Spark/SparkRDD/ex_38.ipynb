{
 "cells": [
  {
   "cell_type": "markdown",
   "id": "leading-metallic",
   "metadata": {},
   "source": [
    "## Exercise 38 - Pollution analysis"
   ]
  },
  {
   "cell_type": "code",
   "execution_count": 6,
   "id": "fleet-joint",
   "metadata": {},
   "outputs": [
    {
     "data": {
      "text/plain": [
       "['s1,2016-01-01,20.5',\n",
       " 's2,2016-01-01,30.1',\n",
       " 's1,2016-01-02,60.2',\n",
       " 's2,2016-01-02,20.4',\n",
       " 's1,2016-01-03,55.5',\n",
       " 's2,2016-01-03,52.5']"
      ]
     },
     "execution_count": 6,
     "metadata": {},
     "output_type": "execute_result"
    }
   ],
   "source": [
    "inputPath  = \"/data/students/bigdata-01QYD/ex_data/Ex38/data/\"\n",
    "outputPath = \"out_Ex38/\" \n",
    "\n",
    "# read from input and load into the RDD\n",
    "logRDD = sc.textFile(inputPath)\n",
    "logRDD.collect()"
   ]
  },
  {
   "cell_type": "markdown",
   "id": "cubic-monitoring",
   "metadata": {},
   "source": [
    "__Output__ : the sensors with at least 2 readings with a  PM10 value greater than the critical threshold 50.\n",
    "\n",
    "Store in an HDFS file the sensor Ids of the selected sensors and also the number of times each of those  sensors is associated with a PM10 value greater than 50"
   ]
  },
  {
   "cell_type": "code",
   "execution_count": 16,
   "id": "simplified-landing",
   "metadata": {},
   "outputs": [
    {
     "data": {
      "text/plain": [
       "[('s1', 2)]"
      ]
     },
     "execution_count": 16,
     "metadata": {},
     "output_type": "execute_result"
    }
   ],
   "source": [
    "# step 1 = filter\n",
    "filteredRDD = logRDD.filter(lambda x : float(x.split(\",\")[2]) > 50)\n",
    "\n",
    "# step 2-3-4 = map - count - filter \n",
    "pairsRDD = filteredRDD.map(lambda x : (x.split(\",\")[0], 1) )\\\n",
    "                      .reduceByKey(lambda x,y : x+y)\\\n",
    "                      .filter(lambda pair : pair[1] >= 2)\n",
    "\n",
    "pairsRDD.collect()"
   ]
  },
  {
   "cell_type": "code",
   "execution_count": null,
   "id": "needed-leadership",
   "metadata": {},
   "outputs": [],
   "source": [
    "pairsRDD.saveAsTextFile(outputPath)"
   ]
  }
 ],
 "metadata": {
  "kernelspec": {
   "display_name": "PySpark (Local)",
   "language": "python",
   "name": "pyspark_local"
  },
  "language_info": {
   "codemirror_mode": {
    "name": "ipython",
    "version": 3
   },
   "file_extension": ".py",
   "mimetype": "text/x-python",
   "name": "python",
   "nbconvert_exporter": "python",
   "pygments_lexer": "ipython3",
   "version": "3.7.9"
  }
 },
 "nbformat": 4,
 "nbformat_minor": 5
}
