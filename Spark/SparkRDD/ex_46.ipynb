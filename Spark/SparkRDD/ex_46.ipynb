{
 "cells": [
  {
   "cell_type": "markdown",
   "id": "legal-disorder",
   "metadata": {},
   "source": [
    " ## Exercise 46 - Time Series Analysis"
   ]
  },
  {
   "cell_type": "code",
   "execution_count": 1,
   "id": "liberal-czech",
   "metadata": {},
   "outputs": [],
   "source": [
    "inputPath = \"/data/students/bigdata-01QYD/ex_data/Ex46/data/readings.txt\"\n",
    "outputPath = \"res_out_Ex46/\"\n",
    "threshold = 0.5"
   ]
  },
  {
   "cell_type": "markdown",
   "id": "pleased-disclosure",
   "metadata": {},
   "source": [
    "__input__ : \n",
    "* A textual file containing a set of temperature readings : _timestamp (UNIX), temperature_, sample rate = 1 min\n",
    "\n",
    "__output__ : \n",
    "*  Consider all the windows containing 3 consecutive temperature readings and\n",
    "    * Select the windows characterized by an increasing trend (temperature(t)>temperature(t-60 seconds))\n",
    "    * Store the result into an HDFS file"
   ]
  },
  {
   "cell_type": "code",
   "execution_count": 2,
   "id": "indoor-determination",
   "metadata": {},
   "outputs": [
    {
     "data": {
      "text/plain": [
       "['1451606400,12.1',\n",
       " '1451606460,12.2',\n",
       " '1451606520,13.5',\n",
       " '1451606580,14.0',\n",
       " '1451606640,14.0',\n",
       " '1451606700,15.5',\n",
       " '1451606760,15.0']"
      ]
     },
     "execution_count": 2,
     "metadata": {},
     "output_type": "execute_result"
    }
   ],
   "source": [
    "# map into (movieid , userid)\n",
    "readingsRDD = sc.textFile(inputPath)\n",
    "readingsRDD.collect()"
   ]
  },
  {
   "cell_type": "code",
   "execution_count": 3,
   "id": "objective-vulnerability",
   "metadata": {},
   "outputs": [],
   "source": [
    "# create a window of three elements\n",
    "# reading at time t, t-60, \n",
    "def windowReadingsFunction(line):\n",
    "    \n",
    "    temp = float(line.split(\",\")[1])\n",
    "    reading = int(line.split(\",\")[0])\n",
    "    \n",
    "    # collect the pairs (reading,temp)\n",
    "    window = []\n",
    "    \n",
    "    window.append((reading,line))\n",
    "    window.append((reading-60,line))\n",
    "    window.append((reading-120,line))\n",
    "    \n",
    "    return window\n",
    "\n",
    "\n",
    "windowsPairsRDD = readingsRDD.flatMap(windowReadingsFunction)\n",
    "# group by each timestamp\n",
    "# in order to create the window\n",
    "timestampsWindowsRDD = windowsPairsRDD.groupByKey()"
   ]
  },
  {
   "cell_type": "code",
   "execution_count": 4,
   "id": "flexible-official",
   "metadata": {},
   "outputs": [
    {
     "data": {
      "text/plain": [
       "[(1451606400, ['1451606400,12.1', '1451606460,12.2', '1451606520,13.5']),\n",
       " (1451606340, ['1451606400,12.1', '1451606460,12.2']),\n",
       " (1451606280, ['1451606400,12.1']),\n",
       " (1451606460, ['1451606460,12.2', '1451606520,13.5', '1451606580,14.0']),\n",
       " (1451606520, ['1451606520,13.5', '1451606580,14.0', '1451606640,14.0']),\n",
       " (1451606580, ['1451606580,14.0', '1451606640,14.0', '1451606700,15.5']),\n",
       " (1451606640, ['1451606640,14.0', '1451606700,15.5', '1451606760,15.0']),\n",
       " (1451606700, ['1451606700,15.5', '1451606760,15.0']),\n",
       " (1451606760, ['1451606760,15.0'])]"
      ]
     },
     "execution_count": 4,
     "metadata": {},
     "output_type": "execute_result"
    }
   ],
   "source": [
    "timestampsWindowsRDD.mapValues(lambda v: list(v)).collect()"
   ]
  },
  {
   "cell_type": "code",
   "execution_count": 15,
   "id": "first-madonna",
   "metadata": {},
   "outputs": [],
   "source": [
    "# filter just the increasing windows\n",
    "def getIncreasingWindows(elements):\n",
    "    \n",
    "    timestamp, window = elements\n",
    "    \n",
    "    # memorize tuple (timestamp, temp)\n",
    "    temperatures = []\n",
    "    \n",
    "    for t in window:\n",
    "        temperatures.append( ( int(t.split(\",\")[0]), float(t.split(\",\")[1])) )\n",
    "        \n",
    "    # filter increasing trends\n",
    "    if len(temperatures) < 3:\n",
    "        return False\n",
    "    \n",
    "    else:\n",
    "        if temperatures[0][1] < temperatures[1][1] and \\\n",
    "           temperatures[1][1] < temperatures[2][1]:\n",
    "            return True\n",
    "        else:\n",
    "            return False"
   ]
  },
  {
   "cell_type": "code",
   "execution_count": 17,
   "id": "familiar-central",
   "metadata": {},
   "outputs": [
    {
     "data": {
      "text/plain": [
       "[['1451606400,12.1', '1451606460,12.2', '1451606520,13.5'],\n",
       " ['1451606460,12.2', '1451606520,13.5', '1451606580,14.0']]"
      ]
     },
     "execution_count": 17,
     "metadata": {},
     "output_type": "execute_result"
    }
   ],
   "source": [
    "filteredWindows = timestampsWindowsRDD.filter(getIncreasingWindows)\n",
    "filteredWindows.mapValues(lambda iterable : list(iterable)).values().collect()"
   ]
  },
  {
   "cell_type": "code",
   "execution_count": 19,
   "id": "statistical-appointment",
   "metadata": {},
   "outputs": [],
   "source": [
    "filteredWindows.mapValues(lambda iterable : list(iterable)).values().saveAsTextFile(outputPath)"
   ]
  }
 ],
 "metadata": {
  "kernelspec": {
   "display_name": "PySpark (Local)",
   "language": "python",
   "name": "pyspark_local"
  },
  "language_info": {
   "codemirror_mode": {
    "name": "ipython",
    "version": 3
   },
   "file_extension": ".py",
   "mimetype": "text/x-python",
   "name": "python",
   "nbconvert_exporter": "python",
   "pygments_lexer": "ipython3",
   "version": "3.7.9"
  }
 },
 "nbformat": 4,
 "nbformat_minor": 5
}
