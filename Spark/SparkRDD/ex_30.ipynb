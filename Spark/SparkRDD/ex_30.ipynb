{
 "cells": [
  {
   "cell_type": "markdown",
   "id": "rocky-classic",
   "metadata": {},
   "source": [
    "## Exercise 30 - Log filtering"
   ]
  },
  {
   "cell_type": "code",
   "execution_count": 9,
   "id": "specified-variety",
   "metadata": {},
   "outputs": [],
   "source": [
    "inputPath  = \"/data/students/bigdata-01QYD/ex_data/Ex30/data/\"\n",
    "outputPath = \"out_Ex30/\" "
   ]
  },
  {
   "cell_type": "code",
   "execution_count": 10,
   "id": "favorite-standard",
   "metadata": {},
   "outputs": [],
   "source": [
    "# read from input and load into the RDD\n",
    "logRDD = sc.textFile(inputPath)"
   ]
  },
  {
   "cell_type": "code",
   "execution_count": 11,
   "id": "bottom-pavilion",
   "metadata": {},
   "outputs": [],
   "source": [
    "# filter\n",
    "filteredRDD = logRDD.filter(lambda line : line.lower().find(\"google\") >= 0)\n",
    "# save\n",
    "filteredRDD.saveAsTextFile(outputPath)"
   ]
  }
 ],
 "metadata": {
  "kernelspec": {
   "display_name": "PySpark (Local)",
   "language": "python",
   "name": "pyspark_local"
  },
  "language_info": {
   "codemirror_mode": {
    "name": "ipython",
    "version": 3
   },
   "file_extension": ".py",
   "mimetype": "text/x-python",
   "name": "python",
   "nbconvert_exporter": "python",
   "pygments_lexer": "ipython3",
   "version": "3.7.9"
  }
 },
 "nbformat": 4,
 "nbformat_minor": 5
}
