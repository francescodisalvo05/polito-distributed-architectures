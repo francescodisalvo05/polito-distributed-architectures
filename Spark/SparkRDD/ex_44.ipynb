{
 "cells": [
  {
   "cell_type": "markdown",
   "id": "early-sheriff",
   "metadata": {},
   "source": [
    " ## Exercise 44 - Misleading Profile Section"
   ]
  },
  {
   "cell_type": "code",
   "execution_count": 1,
   "id": "civil-producer",
   "metadata": {},
   "outputs": [],
   "source": [
    "inputPathWatched = \"/data/students/bigdata-01QYD/ex_data/Ex44/data/watchedmovies.txt\"\n",
    "inputPathPreferences = \"/data/students/bigdata-01QYD/ex_data/Ex44/data/preferences.txt\"\n",
    "inputPathMovies = \"/data/students/bigdata-01QYD/ex_data/Ex44/data/movies.txt\"\n",
    "outputPath = \"res_out_Ex44/\"\n",
    "threshold = 0.5"
   ]
  },
  {
   "cell_type": "markdown",
   "id": "extraordinary-burns",
   "metadata": {},
   "source": [
    "__input__ : \n",
    "* A textual file containing the list of movies watched by the users of a video on demand service: _userid,movieid,start-timestamp,end-timestamp_\n",
    "* A second textual file containing the list of preferences for each user: _userid,movie-genre_\n",
    "* A third textual file containing the list of movies with the associated information: _movieid,title,movie-genre_\n",
    "\n",
    "__output__ : \n",
    "* Select the userids of the list of users with a misleading profile\n",
    "    * A user has a misleading profile if more than threshold% of the movies he/she watched are not associated with a movie genre he/she likes"
   ]
  },
  {
   "cell_type": "code",
   "execution_count": 6,
   "id": "scheduled-alberta",
   "metadata": {},
   "outputs": [
    {
     "data": {
      "text/plain": [
       "[('movie1', 'user1'),\n",
       " ('movie3', 'user1'),\n",
       " ('movie4', 'user1'),\n",
       " ('movie5', 'user1'),\n",
       " ('movie6', 'user2'),\n",
       " ('movie3', 'user2'),\n",
       " ('movie4', 'user2')]"
      ]
     },
     "execution_count": 6,
     "metadata": {},
     "output_type": "execute_result"
    }
   ],
   "source": [
    "# map into (movieid , userid)\n",
    "watchedRDD = sc.textFile(inputPathWatched)\n",
    "pairWatchedRDD = watchedRDD.map(lambda line : (line.split(\",\")[1] , line.split(\",\")[0]) )\n",
    "pairWatchedRDD.collect()"
   ]
  },
  {
   "cell_type": "code",
   "execution_count": 11,
   "id": "standing-ivory",
   "metadata": {},
   "outputs": [
    {
     "data": {
      "text/plain": [
       "[('movie1', 'Animation'),\n",
       " ('movie2', 'Adventure'),\n",
       " ('movie3', 'Comedy'),\n",
       " ('movie4', 'Comedy'),\n",
       " ('movie5', 'Comedy'),\n",
       " ('movie6', 'Action'),\n",
       " ('movie7', 'Comedy'),\n",
       " ('movie8', 'Adventure'),\n",
       " ('movie9', 'Action'),\n",
       " ('movie10', 'Action')]"
      ]
     },
     "execution_count": 11,
     "metadata": {},
     "output_type": "execute_result"
    }
   ],
   "source": [
    "# map into (movieid, genre)\n",
    "movieRDD = sc.textFile(inputPathMovies)\n",
    "pairMovieUserRDD = movieRDD.map(lambda line : (line.split(\",\")[0] , line.split(\",\")[2]) )\n",
    "pairMovieUserRDD.collect()"
   ]
  },
  {
   "cell_type": "code",
   "execution_count": 12,
   "id": "together-founder",
   "metadata": {},
   "outputs": [
    {
     "data": {
      "text/plain": [
       "[('movie5', ('user1', 'Comedy')),\n",
       " ('movie1', ('user1', 'Animation')),\n",
       " ('movie4', ('user1', 'Comedy')),\n",
       " ('movie4', ('user2', 'Comedy')),\n",
       " ('movie3', ('user1', 'Comedy')),\n",
       " ('movie3', ('user2', 'Comedy')),\n",
       " ('movie6', ('user2', 'Action'))]"
      ]
     },
     "execution_count": 12,
     "metadata": {},
     "output_type": "execute_result"
    }
   ],
   "source": [
    "joinedMovieWatchedRDD = pairWatchedRDD.join(pairMovieUserRDD)\n",
    "joinedMovieWatchedRDD.collect()"
   ]
  },
  {
   "cell_type": "code",
   "execution_count": 14,
   "id": "elementary-prince",
   "metadata": {},
   "outputs": [
    {
     "data": {
      "text/plain": [
       "[('user1', 'Comedy'),\n",
       " ('user1', 'Animation'),\n",
       " ('user1', 'Comedy'),\n",
       " ('user2', 'Comedy'),\n",
       " ('user1', 'Comedy'),\n",
       " ('user2', 'Comedy'),\n",
       " ('user2', 'Action')]"
      ]
     },
     "execution_count": 14,
     "metadata": {},
     "output_type": "execute_result"
    }
   ],
   "source": [
    "userGenresRDD = joinedMovieWatchedRDD.map(lambda pair: (pair[1][0], pair[1][1]))\n",
    "userGenresRDD.collect()"
   ]
  },
  {
   "cell_type": "code",
   "execution_count": 25,
   "id": "overhead-motion",
   "metadata": {},
   "outputs": [],
   "source": [
    "preferencesRDD = sc.textFile(inputPathPreferences)\n",
    "pairPreferencesRDD = preferencesRDD.map(lambda line : (line.split(\",\")[0] , line.split(\",\")[1]))"
   ]
  },
  {
   "cell_type": "code",
   "execution_count": 30,
   "id": "healthy-advisory",
   "metadata": {},
   "outputs": [
    {
     "data": {
      "text/plain": [
       "[('user2', (['Comedy', 'Comedy', 'Action'], [])),\n",
       " ('u', ([], ['s', 's', 's'])),\n",
       " ('user1', (['Comedy', 'Animation', 'Comedy', 'Comedy'], []))]"
      ]
     },
     "execution_count": 30,
     "metadata": {},
     "output_type": "execute_result"
    }
   ],
   "source": [
    "# cogroup the movie preference with the watched genres\n",
    "joinedUserGenresRDD = userGenresRDD.cogroup(preferencesRDD)\n",
    "joinedUserGenresRDD.mapValues(lambda elem: (list(elem[0]), list(elem[1]))).collect()"
   ]
  },
  {
   "cell_type": "code",
   "execution_count": 33,
   "id": "renewable-cheese",
   "metadata": {},
   "outputs": [
    {
     "data": {
      "text/plain": [
       "[('user2', <pyspark.resultiterable.ResultIterable at 0x7fce78e3b150>),\n",
       " ('user1', <pyspark.resultiterable.ResultIterable at 0x7fce78e3b5d0>)]"
      ]
     },
     "execution_count": 33,
     "metadata": {},
     "output_type": "execute_result"
    }
   ],
   "source": [
    "# remove the second line -> where does it come from?\n",
    "# remove the second array\n",
    "joinedUserGenresRDD = joinedUserGenresRDD.filter(lambda pair : pair[0] != \"u\")\\\n",
    "                                         .mapValues(lambda pair : pair[0])\n",
    "joinedUserGenresRDD.collect()"
   ]
  },
  {
   "cell_type": "code",
   "execution_count": 41,
   "id": "enhanced-seventh",
   "metadata": {},
   "outputs": [
    {
     "data": {
      "text/plain": [
       "[('user2', <pyspark.resultiterable.ResultIterable at 0x7fce78e35a10>),\n",
       " ('user1', <pyspark.resultiterable.ResultIterable at 0x7fce78e351d0>)]"
      ]
     },
     "execution_count": 41,
     "metadata": {},
     "output_type": "execute_result"
    }
   ],
   "source": [
    "def getMisleadingProfiles(pair):\n",
    "    \n",
    "    user = pair[0]\n",
    "    genres = list(pair[1])\n",
    "    \n",
    "    preference = genres[0]\n",
    "    \n",
    "    # measure the total number of film watched\n",
    "    counter = 0\n",
    "    # measure the matched genres\n",
    "    mathcedGenre = 0\n",
    "    \n",
    "    for i in range(1,len(genres)):\n",
    "        \n",
    "        if genres[i] == preference:\n",
    "            mathcedGenre += 1\n",
    "            \n",
    "        counter += 1\n",
    "        \n",
    "    percentage = mathcedGenre/counter\n",
    "    \n",
    "    if percentage >= threshold:\n",
    "        return True\n",
    "    else:\n",
    "        return False\n",
    "\n",
    "\n",
    "misleadingUsersRDD = joinedUserGenresRDD.filter(getMisleadingProfiles)\n",
    "misleadingUsersRDD.collect()"
   ]
  },
  {
   "cell_type": "code",
   "execution_count": 45,
   "id": "brave-sauce",
   "metadata": {},
   "outputs": [
    {
     "data": {
      "text/plain": [
       "['user2', 'user1']"
      ]
     },
     "execution_count": 45,
     "metadata": {},
     "output_type": "execute_result"
    }
   ],
   "source": [
    "misleadingUsersIdsRDD = misleadingUsersRDD.keys()\n",
    "misleadingUsersIdsRDD.collect()"
   ]
  },
  {
   "cell_type": "code",
   "execution_count": 46,
   "id": "linear-suicide",
   "metadata": {},
   "outputs": [],
   "source": [
    "misleadingUsersIdsRDD.saveAsTextFile(outputPath)"
   ]
  },
  {
   "cell_type": "code",
   "execution_count": null,
   "id": "divided-shock",
   "metadata": {},
   "outputs": [],
   "source": []
  }
 ],
 "metadata": {
  "kernelspec": {
   "display_name": "PySpark (Local)",
   "language": "python",
   "name": "pyspark_local"
  },
  "language_info": {
   "codemirror_mode": {
    "name": "ipython",
    "version": 3
   },
   "file_extension": ".py",
   "mimetype": "text/x-python",
   "name": "python",
   "nbconvert_exporter": "python",
   "pygments_lexer": "ipython3",
   "version": "3.7.9"
  }
 },
 "nbformat": 4,
 "nbformat_minor": 5
}
