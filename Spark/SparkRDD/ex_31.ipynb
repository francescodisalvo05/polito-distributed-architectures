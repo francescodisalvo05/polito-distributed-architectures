{
 "cells": [
  {
   "cell_type": "markdown",
   "id": "completed-being",
   "metadata": {},
   "source": [
    "## Exercise 31 - Log Analysis"
   ]
  },
  {
   "cell_type": "code",
   "execution_count": 6,
   "id": "settled-puppy",
   "metadata": {},
   "outputs": [],
   "source": [
    "inputPath  = \"/data/students/bigdata-01QYD/ex_data/Ex30/data/\"\n",
    "outputPath = \"out_Ex31V2/\" \n",
    "\n",
    "# read from input and load into the RDD\n",
    "logRDD = sc.textFile(inputPath)\n",
    "\n",
    "# filter : get lines where there is \"google\"\n",
    "# map : get just the IP address \n",
    "# distinct : get distinct IPs\n",
    "finalRDD = logRDD.filter(lambda line : line.lower().find(\"google\") >= 0 )\\\n",
    "                 .map(lambda line : line.split(\"-\")[0])\\\n",
    "                 .distinct()\n",
    "\n",
    "finalRDD.saveAsTextFile(outputPath)"
   ]
  }
 ],
 "metadata": {
  "kernelspec": {
   "display_name": "PySpark (Local)",
   "language": "python",
   "name": "pyspark_local"
  },
  "language_info": {
   "codemirror_mode": {
    "name": "ipython",
    "version": 3
   },
   "file_extension": ".py",
   "mimetype": "text/x-python",
   "name": "python",
   "nbconvert_exporter": "python",
   "pygments_lexer": "ipython3",
   "version": "3.7.9"
  }
 },
 "nbformat": 4,
 "nbformat_minor": 5
}
