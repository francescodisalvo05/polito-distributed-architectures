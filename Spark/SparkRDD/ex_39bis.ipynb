{
 "cells": [
  {
   "cell_type": "markdown",
   "id": "ideal-berkeley",
   "metadata": {},
   "source": [
    " ## Exercise 39bis - Pollution analysis V2"
   ]
  },
  {
   "cell_type": "code",
   "execution_count": 1,
   "id": "mineral-bahamas",
   "metadata": {},
   "outputs": [
    {
     "data": {
      "text/plain": [
       "['s1,2016-01-01,20.5',\n",
       " 's2,2016-01-01,30.1',\n",
       " 's1,2016-01-02,60.2',\n",
       " 's2,2016-01-02,20.4',\n",
       " 's1,2016-01-03,55.5',\n",
       " 's2,2016-01-03,52.5',\n",
       " 's3,2016-01-03,12.5']"
      ]
     },
     "execution_count": 1,
     "metadata": {},
     "output_type": "execute_result"
    }
   ],
   "source": [
    "inputPath  = \"/data/students/bigdata-01QYD/ex_data/Ex39bis/data/\"\n",
    "outputPath = \"out_Ex39/\" \n",
    "\n",
    "# read from input and load into the RDD\n",
    "logRDD = sc.textFile(inputPath)\n",
    "logRDD.collect()"
   ]
  },
  {
   "cell_type": "markdown",
   "id": "actual-boating",
   "metadata": {},
   "source": [
    "__Output__ : HDFS file containing one line for each sensor. Each line contains a sensorId and the list of dates with a PM10 \n",
    "values greater than 50 for that sensor. Consider only the sensors associated at least one time with a PM10 value greater than 5\n",
    "\n",
    "** bonus : Also the sensors which have never been associated with a PM10 values greater than 50 must be included in the result (with an empty set)"
   ]
  },
  {
   "cell_type": "code",
   "execution_count": 3,
   "id": "hybrid-cocktail",
   "metadata": {},
   "outputs": [
    {
     "data": {
      "text/plain": [
       "[('s1', ['2016-01-02', '2016-01-03']), ('s2', ['2016-01-03'])]"
      ]
     },
     "execution_count": 3,
     "metadata": {},
     "output_type": "execute_result"
    }
   ],
   "source": [
    "# step 1 = filter\n",
    "filteredRDD = logRDD.filter(lambda x : float(x.split(\",\")[2]) > 50)\n",
    "\n",
    "# step 2-3 = map - groupByKey \n",
    "# NB the output of the groupByKey is an iterator, so you need to map it\n",
    "pairsRDD = filteredRDD.map(lambda x : (x.split(\",\")[0], x.split(\",\")[1]) )\\\n",
    "                      .groupByKey()\\\n",
    "                      .mapValues(lambda dates : list(dates))\n",
    "\n",
    "pairsRDD.collect()"
   ]
  },
  {
   "cell_type": "code",
   "execution_count": 10,
   "id": "enormous-wireless",
   "metadata": {},
   "outputs": [
    {
     "data": {
      "text/plain": [
       "[('s3', [])]"
      ]
     },
     "execution_count": 10,
     "metadata": {},
     "output_type": "execute_result"
    }
   ],
   "source": [
    "# we get the values that are not present in pairsRDD\n",
    "# we map it into a key value pair, with an empty list\n",
    "remainingRDD = logRDD.map(lambda pair : pair.split(\",\")[0])\\\n",
    "                     .subtract(pairsRDD.keys())\\\n",
    "                     .map(lambda record : (record, []))\n",
    "remainingRDD.collect()"
   ]
  },
  {
   "cell_type": "code",
   "execution_count": 11,
   "id": "southeast-regulation",
   "metadata": {},
   "outputs": [
    {
     "data": {
      "text/plain": [
       "[('s1', ['2016-01-02', '2016-01-03']), ('s2', ['2016-01-03']), ('s3', [])]"
      ]
     },
     "execution_count": 11,
     "metadata": {},
     "output_type": "execute_result"
    }
   ],
   "source": [
    "# combine these RDD with UNION\n",
    "\n",
    "finalRDD = pairsRDD.union(remainingRDD)\n",
    "\n",
    "finalRDD.collect()"
   ]
  },
  {
   "cell_type": "code",
   "execution_count": null,
   "id": "religious-zoning",
   "metadata": {},
   "outputs": [],
   "source": [
    "finalRDD.saveAsTextFile(outputPath)"
   ]
  }
 ],
 "metadata": {
  "kernelspec": {
   "display_name": "PySpark (Local)",
   "language": "python",
   "name": "pyspark_local"
  },
  "language_info": {
   "codemirror_mode": {
    "name": "ipython",
    "version": 3
   },
   "file_extension": ".py",
   "mimetype": "text/x-python",
   "name": "python",
   "nbconvert_exporter": "python",
   "pygments_lexer": "ipython3",
   "version": "3.7.9"
  }
 },
 "nbformat": 4,
 "nbformat_minor": 5
}
