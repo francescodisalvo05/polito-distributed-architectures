{
 "cells": [
  {
   "cell_type": "markdown",
   "id": "quiet-medicine",
   "metadata": {},
   "source": [
    " ## Exercise 41 - TopK"
   ]
  },
  {
   "cell_type": "code",
   "execution_count": 14,
   "id": "cardiovascular-tracy",
   "metadata": {},
   "outputs": [
    {
     "data": {
      "text/plain": [
       "['s1,2016-01-01,20.5',\n",
       " 's2,2016-01-01,30.1',\n",
       " 's1,2016-01-02,60.2',\n",
       " 's2,2016-01-02,20.4',\n",
       " 's1,2016-01-03,55.5',\n",
       " 's2,2016-01-03,52.5']"
      ]
     },
     "execution_count": 14,
     "metadata": {},
     "output_type": "execute_result"
    }
   ],
   "source": [
    "inputPath  = \"/data/students/bigdata-01QYD/ex_data/Ex41/data/\"\n",
    "outputPath = \"out_Ex41/\" \n",
    "\n",
    "# read from input and load into the RDD\n",
    "logRDD = sc.textFile(inputPath)\n",
    "logRDD.collect()"
   ]
  },
  {
   "cell_type": "markdown",
   "id": "incoming-camera",
   "metadata": {},
   "source": [
    "__Output__ : HDFS file containing the top-k (k input) critical sensors. The “criticality” of a sensor is given by the number of days with a \n",
    "PM10 values greater than 50."
   ]
  },
  {
   "cell_type": "code",
   "execution_count": 15,
   "id": "operational-johns",
   "metadata": {},
   "outputs": [],
   "source": [
    "k = 1 # args"
   ]
  },
  {
   "cell_type": "code",
   "execution_count": 29,
   "id": "million-classroom",
   "metadata": {},
   "outputs": [],
   "source": [
    "# 1. FILTER : PM10 greater than 50\n",
    "# 2. MAP : map the elements into couples (sensorId,1)\n",
    "# 3. REDUCEBYKEY : count the elements by sensor\n",
    "# 4. SORTBY : sort in a decreasing order \n",
    "# 5. TOP : since they're ordered, we can take the first k elements\n",
    "outputList = logRDD.filter(lambda x : float(x.split(\",\")[2]) > 50)\\\n",
    "                   .map(lambda x : (x.split(\",\")[0], 1))\\\n",
    "                   .reduceByKey(lambda x,y : x+y)\\\n",
    "                   .sortBy(lambda pair : pair[1], False)\\\n",
    "                   .top(k)"
   ]
  },
  {
   "cell_type": "code",
   "execution_count": 30,
   "id": "everyday-supply",
   "metadata": {},
   "outputs": [
    {
     "data": {
      "text/plain": [
       "[('s2', 1)]"
      ]
     },
     "execution_count": 30,
     "metadata": {},
     "output_type": "execute_result"
    }
   ],
   "source": [
    "outputList"
   ]
  },
  {
   "cell_type": "code",
   "execution_count": 31,
   "id": "preceding-postcard",
   "metadata": {},
   "outputs": [],
   "source": [
    "sc.parallelize(outputList).saveAsTextFile(outputPath)"
   ]
  }
 ],
 "metadata": {
  "kernelspec": {
   "display_name": "PySpark (Local)",
   "language": "python",
   "name": "pyspark_local"
  },
  "language_info": {
   "codemirror_mode": {
    "name": "ipython",
    "version": 3
   },
   "file_extension": ".py",
   "mimetype": "text/x-python",
   "name": "python",
   "nbconvert_exporter": "python",
   "pygments_lexer": "ipython3",
   "version": "3.7.9"
  }
 },
 "nbformat": 4,
 "nbformat_minor": 5
}
