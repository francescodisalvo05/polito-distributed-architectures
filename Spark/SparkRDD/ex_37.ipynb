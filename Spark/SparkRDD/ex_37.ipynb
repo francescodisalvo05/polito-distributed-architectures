{
 "cells": [
  {
   "cell_type": "markdown",
   "id": "trained-eight",
   "metadata": {},
   "source": [
    "## Exercise 37 - Maximum values"
   ]
  },
  {
   "cell_type": "code",
   "execution_count": 23,
   "id": "handy-accommodation",
   "metadata": {},
   "outputs": [],
   "source": [
    "inputPath  = \"/data/students/bigdata-01QYD/ex_data/Ex37/data/\"\n",
    "outputPath = \"out_Ex37/\" "
   ]
  },
  {
   "cell_type": "code",
   "execution_count": 20,
   "id": "opposed-madagascar",
   "metadata": {},
   "outputs": [
    {
     "data": {
      "text/plain": [
       "['s1,2016-01-01,20.5',\n",
       " 's2,2016-01-01,30.1',\n",
       " 's1,2016-01-02,60.2',\n",
       " 's2,2016-01-02,20.4',\n",
       " 's1,2016-01-03,55.5',\n",
       " 's2,2016-01-03,52.5']"
      ]
     },
     "execution_count": 20,
     "metadata": {},
     "output_type": "execute_result"
    }
   ],
   "source": [
    "# read from input and load into the RDD\n",
    "logRDD = sc.textFile(inputPath)\n",
    "logRDD.collect()"
   ]
  },
  {
   "cell_type": "markdown",
   "id": "sexual-estimate",
   "metadata": {},
   "source": [
    "__Output__: the maximum value of PM10 for each sensor"
   ]
  },
  {
   "cell_type": "code",
   "execution_count": 21,
   "id": "excessive-metabolism",
   "metadata": {},
   "outputs": [
    {
     "data": {
      "text/plain": [
       "[('s1', 20.5),\n",
       " ('s2', 30.1),\n",
       " ('s1', 60.2),\n",
       " ('s2', 20.4),\n",
       " ('s1', 55.5),\n",
       " ('s2', 52.5)]"
      ]
     },
     "execution_count": 21,
     "metadata": {},
     "output_type": "execute_result"
    }
   ],
   "source": [
    "# map each line into (key,value)\n",
    "# key = sensor\n",
    "# value = value\n",
    "\n",
    "pairsRDD = logRDD.map(lambda row : (row.split(\",\")[0], float(row.split(\",\")[2])))\n",
    "pairsRDD.collect()"
   ]
  },
  {
   "cell_type": "code",
   "execution_count": 29,
   "id": "dependent-treasure",
   "metadata": {},
   "outputs": [
    {
     "data": {
      "text/plain": [
       "[('s1', 60.2), ('s2', 52.5)]"
      ]
     },
     "execution_count": 29,
     "metadata": {},
     "output_type": "execute_result"
    }
   ],
   "source": [
    "# max for each sensor\n",
    "maxMeasures = pairsRDD.reduceByKey(lambda v1, v2 : max(v1,v2))\n",
    "maxMeasures.collect()"
   ]
  },
  {
   "cell_type": "code",
   "execution_count": null,
   "id": "departmental-custody",
   "metadata": {},
   "outputs": [],
   "source": [
    "maxMeasures.saveAsTextFile(outputPath)"
   ]
  }
 ],
 "metadata": {
  "kernelspec": {
   "display_name": "PySpark (Local)",
   "language": "python",
   "name": "pyspark_local"
  },
  "language_info": {
   "codemirror_mode": {
    "name": "ipython",
    "version": 3
   },
   "file_extension": ".py",
   "mimetype": "text/x-python",
   "name": "python",
   "nbconvert_exporter": "python",
   "pygments_lexer": "ipython3",
   "version": "3.7.9"
  }
 },
 "nbformat": 4,
 "nbformat_minor": 5
}
