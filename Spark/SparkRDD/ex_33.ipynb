{
 "cells": [
  {
   "cell_type": "markdown",
   "id": "educational-canal",
   "metadata": {},
   "source": [
    "## Exercise 33 - Top k maximum values"
   ]
  },
  {
   "cell_type": "code",
   "execution_count": 2,
   "id": "aquatic-equivalent",
   "metadata": {},
   "outputs": [
    {
     "data": {
      "text/plain": [
       "[60.2, 55.5, 52.5]"
      ]
     },
     "execution_count": 2,
     "metadata": {},
     "output_type": "execute_result"
    }
   ],
   "source": [
    "inputPath  = \"/data/students/bigdata-01QYD/ex_data/Ex33/data/\"\n",
    "outputPath = \"out_Ex33/\" \n",
    "\n",
    "# read from input and load into the RDD\n",
    "logRDD = sc.textFile(inputPath)\n",
    "\n",
    "# input : s2,2016-01-02,20.4\n",
    "# map and take just the number\n",
    "# takeOrdered in order to take highest one\n",
    "#    -- since it takes the lowest one, I use \"-x\"\n",
    "# k = 3\n",
    "finalRDD = logRDD.map(lambda l : float(l.split(\",\")[2]))\\\n",
    "                 .takeOrdered(3, lambda x : -x)\n",
    "\n",
    "finalRDD"
   ]
  }
 ],
 "metadata": {
  "kernelspec": {
   "display_name": "PySpark (Local)",
   "language": "python",
   "name": "pyspark_local"
  },
  "language_info": {
   "codemirror_mode": {
    "name": "ipython",
    "version": 3
   },
   "file_extension": ".py",
   "mimetype": "text/x-python",
   "name": "python",
   "nbconvert_exporter": "python",
   "pygments_lexer": "ipython3",
   "version": "3.7.9"
  }
 },
 "nbformat": 4,
 "nbformat_minor": 5
}
