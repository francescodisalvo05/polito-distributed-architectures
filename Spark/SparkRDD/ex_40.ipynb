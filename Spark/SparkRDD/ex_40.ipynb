{
 "cells": [
  {
   "cell_type": "markdown",
   "id": "stopped-anime",
   "metadata": {},
   "source": [
    " ## Exercise 40 - Order"
   ]
  },
  {
   "cell_type": "code",
   "execution_count": 1,
   "id": "neutral-humidity",
   "metadata": {},
   "outputs": [
    {
     "data": {
      "text/plain": [
       "['s1,2016-01-01,20.5',\n",
       " 's2,2016-01-01,30.1',\n",
       " 's1,2016-01-02,60.2',\n",
       " 's2,2016-01-02,20.4',\n",
       " 's1,2016-01-03,55.5',\n",
       " 's2,2016-01-03,52.5']"
      ]
     },
     "execution_count": 1,
     "metadata": {},
     "output_type": "execute_result"
    }
   ],
   "source": [
    "inputPath  = \"/data/students/bigdata-01QYD/ex_data/Ex40/data/\"\n",
    "outputPath = \"out_Ex40/\" \n",
    "\n",
    "# read from input and load into the RDD\n",
    "logRDD = sc.textFile(inputPath)\n",
    "logRDD.collect()"
   ]
  },
  {
   "cell_type": "markdown",
   "id": "returning-chase",
   "metadata": {},
   "source": [
    "__Output__ : HDFS file containing the sensors ordered  by the number of critical days. Each line of the output file contains the number of days with a PM10 values greater than 50 for a sensor s and the sensorId of sensor s.\n",
    "\n",
    "Consider only the sensors associated at least one time with a PM10 value greater than 50."
   ]
  },
  {
   "cell_type": "code",
   "execution_count": 11,
   "id": "personal-tribune",
   "metadata": {},
   "outputs": [],
   "source": [
    "# 1. FILTER : PM10 greater than 50\n",
    "# 2. MAP : map the elements into couples (sensorId,1)\n",
    "# 3. REDUCEBYKEY : count the elements by sensor\n",
    "# 4. SORTBY : sort in a decreasing order  \n",
    "outputRDD = logRDD.filter(lambda x : float(x.split(\",\")[2]) > 50)\\\n",
    "                  .map(lambda x : (x.split(\",\")[0], 1))\\\n",
    "                  .reduceByKey(lambda x,y : x+y)\\\n",
    "                  .sortBy(lambda pair : pair[1], False)"
   ]
  },
  {
   "cell_type": "code",
   "execution_count": 12,
   "id": "everyday-observation",
   "metadata": {},
   "outputs": [
    {
     "data": {
      "text/plain": [
       "[('s1', 2), ('s2', 1)]"
      ]
     },
     "execution_count": 12,
     "metadata": {},
     "output_type": "execute_result"
    }
   ],
   "source": [
    "outputRDD.collect()"
   ]
  },
  {
   "cell_type": "code",
   "execution_count": 13,
   "id": "stainless-brunei",
   "metadata": {},
   "outputs": [],
   "source": [
    "outputRDD.saveAsTextFile(outputPath)"
   ]
  }
 ],
 "metadata": {
  "kernelspec": {
   "display_name": "PySpark (Local)",
   "language": "python",
   "name": "pyspark_local"
  },
  "language_info": {
   "codemirror_mode": {
    "name": "ipython",
    "version": 3
   },
   "file_extension": ".py",
   "mimetype": "text/x-python",
   "name": "python",
   "nbconvert_exporter": "python",
   "pygments_lexer": "ipython3",
   "version": "3.7.9"
  }
 },
 "nbformat": 4,
 "nbformat_minor": 5
}
