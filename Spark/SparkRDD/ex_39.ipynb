{
 "cells": [
  {
   "cell_type": "markdown",
   "id": "boolean-poker",
   "metadata": {},
   "source": [
    "## Exercise 39 - Critical dates analysis"
   ]
  },
  {
   "cell_type": "code",
   "execution_count": 1,
   "id": "spoken-brief",
   "metadata": {},
   "outputs": [
    {
     "data": {
      "text/plain": [
       "['s1,2016-01-01,20.5',\n",
       " 's2,2016-01-01,30.1',\n",
       " 's1,2016-01-02,60.2',\n",
       " 's2,2016-01-02,20.4',\n",
       " 's1,2016-01-03,55.5',\n",
       " 's2,2016-01-03,52.5']"
      ]
     },
     "execution_count": 1,
     "metadata": {},
     "output_type": "execute_result"
    }
   ],
   "source": [
    "inputPath  = \"/data/students/bigdata-01QYD/ex_data/Ex39/data/\"\n",
    "outputPath = \"out_Ex39/\" \n",
    "\n",
    "# read from input and load into the RDD\n",
    "logRDD = sc.textFile(inputPath)\n",
    "logRDD.collect()"
   ]
  },
  {
   "cell_type": "markdown",
   "id": "substantial-blend",
   "metadata": {},
   "source": [
    "__Output__ : HDFS file containing one line for each sensor. Each line contains a sensorId and the list of dates with a PM10 \n",
    "values greater than 50 for that sensor. Consider only the sensors associated at least one time with a PM10 value greater than 5"
   ]
  },
  {
   "cell_type": "code",
   "execution_count": 15,
   "id": "loaded-pioneer",
   "metadata": {},
   "outputs": [
    {
     "data": {
      "text/plain": [
       "[('s1', ['2016-01-02', '2016-01-03']), ('s2', ['2016-01-03'])]"
      ]
     },
     "execution_count": 15,
     "metadata": {},
     "output_type": "execute_result"
    }
   ],
   "source": [
    "# step 1 = filter\n",
    "filteredRDD = logRDD.filter(lambda x : float(x.split(\",\")[2]) > 50)\n",
    "\n",
    "# step 2-3 = map - groupByKey \n",
    "# NB the output of the groupByKey is an iterator, so you need to map it\n",
    "pairsRDD = filteredRDD.map(lambda x : (x.split(\",\")[0], x.split(\",\")[1]) )\\\n",
    "                      .groupByKey()\\\n",
    "                      .mapValues(lambda dates : list(dates))\n",
    "\n",
    "pairsRDD.collect()"
   ]
  },
  {
   "cell_type": "code",
   "execution_count": 5,
   "id": "offensive-africa",
   "metadata": {},
   "outputs": [],
   "source": [
    "pairsRDD.saveAsTextFile(outputPath)"
   ]
  }
 ],
 "metadata": {
  "kernelspec": {
   "display_name": "PySpark (Local)",
   "language": "python",
   "name": "pyspark_local"
  },
  "language_info": {
   "codemirror_mode": {
    "name": "ipython",
    "version": 3
   },
   "file_extension": ".py",
   "mimetype": "text/x-python",
   "name": "python",
   "nbconvert_exporter": "python",
   "pygments_lexer": "ipython3",
   "version": "3.7.9"
  }
 },
 "nbformat": 4,
 "nbformat_minor": 5
}
