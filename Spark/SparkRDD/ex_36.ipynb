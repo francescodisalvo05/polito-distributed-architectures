{
 "cells": [
  {
   "cell_type": "markdown",
   "id": "complex-bullet",
   "metadata": {},
   "source": [
    "## Exercise 36 - Average value"
   ]
  },
  {
   "cell_type": "code",
   "execution_count": 4,
   "id": "compact-cornell",
   "metadata": {},
   "outputs": [
    {
     "data": {
      "text/plain": [
       "39.87"
      ]
     },
     "execution_count": 4,
     "metadata": {},
     "output_type": "execute_result"
    }
   ],
   "source": [
    "inputPath  = \"/data/students/bigdata-01QYD/ex_data/Ex36/data/\"\n",
    "outputPath = \"out_Ex36/\" \n",
    "\n",
    "# read from input and load into the RDD\n",
    "logRDD = sc.textFile(inputPath)\n",
    "\n",
    "# take the measure and return the tuple (measure,1)\n",
    "valuesRDD = logRDD.map(lambda x: ( float(x.split(',')[2]), 1) )\n",
    "\n",
    "# (total sum, total count)\n",
    "sumAverage = valuesRDD.reduce(lambda x, y: (x[0] + y[0], x[1] + y[1]))\n",
    "\n",
    "# avg = sum/count\n",
    "round(sumAverage[0]/sumAverage[1],2)"
   ]
  }
 ],
 "metadata": {
  "kernelspec": {
   "display_name": "PySpark (Local)",
   "language": "python",
   "name": "pyspark_local"
  },
  "language_info": {
   "codemirror_mode": {
    "name": "ipython",
    "version": 3
   },
   "file_extension": ".py",
   "mimetype": "text/x-python",
   "name": "python",
   "nbconvert_exporter": "python",
   "pygments_lexer": "ipython3",
   "version": "3.7.9"
  }
 },
 "nbformat": 4,
 "nbformat_minor": 5
}
