{
 "cells": [
  {
   "cell_type": "markdown",
   "id": "communist-apache",
   "metadata": {},
   "source": [
    "## Exercise 34 - Readings associated with the maximum value"
   ]
  },
  {
   "cell_type": "code",
   "execution_count": 7,
   "id": "laden-wisdom",
   "metadata": {},
   "outputs": [],
   "source": [
    "inputPath  = \"/data/students/bigdata-01QYD/ex_data/Ex34/data/\"\n",
    "outputPath = \"out_Ex34/\" \n",
    "\n",
    "# read from input and load into the RDD\n",
    "logRDD = sc.textFile(inputPath)\n",
    "\n",
    "# input : s2,2016-01-02,20.4\n",
    "# since we may have different records with the same value\n",
    "# I need to take the highest value and then check the compatible lines\n",
    "highest_value = logRDD.takeOrdered(1, lambda l : -float(l.split(\",\")[2]))[0].split(\",\")[2]\n",
    "finalRDD = logRDD.filter(lambda x : x.split(\",\")[2] == highest_value)\n",
    "\n",
    "finalRDD.saveAsTextFile(outputPath)"
   ]
  }
 ],
 "metadata": {
  "kernelspec": {
   "display_name": "PySpark (Local)",
   "language": "python",
   "name": "pyspark_local"
  },
  "language_info": {
   "codemirror_mode": {
    "name": "ipython",
    "version": 3
   },
   "file_extension": ".py",
   "mimetype": "text/x-python",
   "name": "python",
   "nbconvert_exporter": "python",
   "pygments_lexer": "ipython3",
   "version": "3.7.9"
  }
 },
 "nbformat": 4,
 "nbformat_minor": 5
}
