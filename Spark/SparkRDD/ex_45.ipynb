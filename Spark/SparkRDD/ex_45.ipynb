{
 "cells": [
  {
   "cell_type": "markdown",
   "id": "married-waterproof",
   "metadata": {},
   "source": [
    " ## Exercise 45 - Profile Update"
   ]
  },
  {
   "cell_type": "code",
   "execution_count": 2,
   "id": "transparent-compromise",
   "metadata": {},
   "outputs": [],
   "source": [
    "inputPathWatched = \"/data/students/bigdata-01QYD/ex_data/Ex45/data/watchedmovies.txt\"\n",
    "inputPathPreferences = \"/data/students/bigdata-01QYD/ex_data/Ex45/data/preferences.txt\"\n",
    "inputPathMovies = \"/data/students/bigdata-01QYD/ex_data/Ex45/data/movies.txt\"\n",
    "outputPath = \"res_out_Ex44/\"\n",
    "threshold = 0.5"
   ]
  },
  {
   "cell_type": "markdown",
   "id": "registered-banner",
   "metadata": {},
   "source": [
    "__input__ : \n",
    "* A textual file containing the list of movies watched by the users of a video on demand service: _userid,movieid,start-timestamp,end-timestamp_\n",
    "* A second textual file containing the list of preferences for each user: _userid,movie-genre_\n",
    "* A third textual file containing the list of movies with the associated information: _movieid,title,movie-genre_\n",
    "\n",
    "__output__ : \n",
    "* Select for each user with a misleading profile (according to the same definition of Exercise #44) the list of movie genres that are not in his/her preferred genres and are associated with at least 5 movies watched by the user: _userid, selected (misleading) genre_"
   ]
  },
  {
   "cell_type": "code",
   "execution_count": 7,
   "id": "joint-alliance",
   "metadata": {},
   "outputs": [],
   "source": [
    "### PART 1 = EXERCISE 44 ###\n",
    "\n",
    "# map into (movieid , userid)\n",
    "watchedRDD = sc.textFile(inputPathWatched)\n",
    "pairWatchedRDD = watchedRDD.map(lambda line : (line.split(\",\")[1] , line.split(\",\")[0]) )\n",
    "\n",
    "# map into (movieid, genre)\n",
    "movieRDD = sc.textFile(inputPathMovies)\n",
    "pairMovieUserRDD = movieRDD.map(lambda line : (line.split(\",\")[0] , line.split(\",\")[2]) )\n",
    "\n",
    "# join them\n",
    "joinedMovieWatchedRDD = pairWatchedRDD.join(pairMovieUserRDD)\n",
    "\n",
    "# join again\n",
    "userGenresRDD = joinedMovieWatchedRDD.map(lambda pair: (pair[1][0], pair[1][1]))\n",
    "\n",
    "# get preferences\n",
    "preferencesRDD = sc.textFile(inputPathPreferences)\n",
    "pairPreferencesRDD = preferencesRDD.map(lambda line : (line.split(\",\")[0] , line.split(\",\")[1]))\n",
    "\n",
    "# cogroup the movie preference with the watched genres\n",
    "joinedUserGenresRDD = userGenresRDD.cogroup(preferencesRDD)\n",
    "joinedUserGenresRDD.mapValues(lambda elem: (list(elem[0]), list(elem[1]))).collect()\n",
    "\n",
    "# remove the second line -> where does it come from?\n",
    "# remove the second array\n",
    "joinedUserGenresRDD = joinedUserGenresRDD.filter(lambda pair : pair[0] != \"u\")\\\n",
    "                                         .mapValues(lambda pair : pair[0])\n",
    "joinedUserGenresRDD.collect()\n",
    "\n",
    "def getMisleadingProfiles(pair):\n",
    "    \n",
    "    user = pair[0]\n",
    "    genres = list(pair[1])\n",
    "    \n",
    "    preference = genres[0]\n",
    "    \n",
    "    # measure the total number of film watched\n",
    "    counter = 0\n",
    "    # measure the matched genres\n",
    "    mathcedGenre = 0\n",
    "    \n",
    "    for i in range(1,len(genres)):\n",
    "        \n",
    "        if genres[i] == preference:\n",
    "            mathcedGenre += 1\n",
    "            \n",
    "        counter += 1\n",
    "        \n",
    "    percentage = mathcedGenre/counter\n",
    "    \n",
    "    if percentage >= threshold:\n",
    "        return True\n",
    "    else:\n",
    "        return False\n",
    "\n",
    "\n",
    "misleadingUsersRDD = joinedUserGenresRDD.filter(getMisleadingProfiles)"
   ]
  },
  {
   "cell_type": "code",
   "execution_count": 8,
   "id": "prescription-monthly",
   "metadata": {},
   "outputs": [
    {
     "data": {
      "text/plain": [
       "[('user2', <pyspark.resultiterable.ResultIterable at 0x7f3bba007750>),\n",
       " ('user1', <pyspark.resultiterable.ResultIterable at 0x7f3bba007090>)]"
      ]
     },
     "execution_count": 8,
     "metadata": {},
     "output_type": "execute_result"
    }
   ],
   "source": [
    "misleadingUsersRDD.collect()"
   ]
  },
  {
   "cell_type": "code",
   "execution_count": 18,
   "id": "continued-building",
   "metadata": {},
   "outputs": [],
   "source": [
    "# we want to get (userid, misleading genre)\n",
    "def misleadingGenres(pair):\n",
    "    \n",
    "    user = pair[0]\n",
    "    likedGenre =  list(pair[1])[0]\n",
    "    watchedGenres = list(pair[1])[1:]\n",
    "    \n",
    "    # create a dictionary\n",
    "    # \"genre\" : watched_film\n",
    "    genres_counter = {}\n",
    "    \n",
    "    # iterate over all the watched genres\n",
    "    for i, genre in enumerate(watchedGenres):\n",
    "        \n",
    "        if genre != likedGenre:\n",
    "            \n",
    "            if genre not in genres_counter:\n",
    "                genres_counter[genre] = 1\n",
    "            else:\n",
    "                genres_counter[genre] += 1\n",
    "                \n",
    "    # check the genres with more than 5 views\n",
    "    aboveThreshGenres = []\n",
    "    \n",
    "    for key in genres_counter:\n",
    "        \n",
    "        if genres_counter[key] >= 5:\n",
    "            aboveThreshGenres.append(user, key)\n",
    "    \n",
    "    return aboveThreshGenres"
   ]
  },
  {
   "cell_type": "code",
   "execution_count": 19,
   "id": "cubic-memphis",
   "metadata": {},
   "outputs": [],
   "source": [
    "# Select the pairs (userid,misleading genre)\n",
    "misleadingGenresRDD = misleadingUsersRDD.flatMap(misleadingGenres)"
   ]
  },
  {
   "cell_type": "code",
   "execution_count": null,
   "id": "latin-completion",
   "metadata": {},
   "outputs": [],
   "source": [
    "misleadingGenresRDD.saveAsTextFile(outputPath)"
   ]
  }
 ],
 "metadata": {
  "kernelspec": {
   "display_name": "PySpark (Local)",
   "language": "python",
   "name": "pyspark_local"
  },
  "language_info": {
   "codemirror_mode": {
    "name": "ipython",
    "version": 3
   },
   "file_extension": ".py",
   "mimetype": "text/x-python",
   "name": "python",
   "nbconvert_exporter": "python",
   "pygments_lexer": "ipython3",
   "version": "3.7.9"
  }
 },
 "nbformat": 4,
 "nbformat_minor": 5
}
