{
 "cells": [
  {
   "cell_type": "markdown",
   "id": "living-flavor",
   "metadata": {},
   "source": [
    " ## Exercise 42 - Mapping"
   ]
  },
  {
   "cell_type": "code",
   "execution_count": 2,
   "id": "conceptual-catholic",
   "metadata": {},
   "outputs": [
    {
     "data": {
      "text/plain": [
       "['A1,Q1,2015-01-02,It is ..',\n",
       " 'A2,Q2,2015-01-03,John Smith',\n",
       " 'A3,Q1,2015-01-05,I think it is ..',\n",
       " 'Q1,2015-01-01,What is ..?',\n",
       " 'Q2,2015-01-03,Who invented ..']"
      ]
     },
     "execution_count": 2,
     "metadata": {},
     "output_type": "execute_result"
    }
   ],
   "source": [
    "inputPath  = \"/data/students/bigdata-01QYD/ex_data/Ex42/data/\"\n",
    "outputPath = \"out_Ex42/\" \n",
    "\n",
    "# read from input and load into the RDD\n",
    "logRDD = sc.textFile(inputPath)\n",
    "logRDD.collect()"
   ]
  },
  {
   "cell_type": "markdown",
   "id": "alternate-borough",
   "metadata": {},
   "source": [
    "__Output__ : A file containing one line for each question. Each line contains a question and the list of answers to \n",
    "that question (QuestionId, TextOfTheQuestion, list of Answers).\n"
   ]
  },
  {
   "cell_type": "code",
   "execution_count": 9,
   "id": "pending-commissioner",
   "metadata": {},
   "outputs": [],
   "source": [
    "questionsRDD = logRDD.filter(lambda line : line[0] == \"Q\")\n",
    "answersRDD = logRDD.filter(lambda line : line[0] == \"A\")"
   ]
  },
  {
   "cell_type": "code",
   "execution_count": 20,
   "id": "wireless-religious",
   "metadata": {},
   "outputs": [],
   "source": [
    "pairQuestionsRDD = questionsRDD.map(lambda line : (line.split(\",\")[0], line.split(\",\")[2]))\n",
    "pairAnswersRDD = answersRDD.map(lambda line : (line.split(\",\")[1], line.split(\",\")[3]))"
   ]
  },
  {
   "cell_type": "code",
   "execution_count": 21,
   "id": "necessary-escape",
   "metadata": {},
   "outputs": [
    {
     "data": {
      "text/plain": [
       "[('Q1', 'What is ..?'), ('Q2', 'Who invented ..')]"
      ]
     },
     "execution_count": 21,
     "metadata": {},
     "output_type": "execute_result"
    }
   ],
   "source": [
    "pairQuestionsRDD.collect()"
   ]
  },
  {
   "cell_type": "code",
   "execution_count": 22,
   "id": "architectural-foster",
   "metadata": {},
   "outputs": [
    {
     "data": {
      "text/plain": [
       "[('Q1', 'It is ..'), ('Q2', 'John Smith'), ('Q1', 'I think it is ..')]"
      ]
     },
     "execution_count": 22,
     "metadata": {},
     "output_type": "execute_result"
    }
   ],
   "source": [
    "pairAnswersRDD.collect()"
   ]
  },
  {
   "cell_type": "code",
   "execution_count": 23,
   "id": "advanced-silicon",
   "metadata": {},
   "outputs": [
    {
     "data": {
      "text/plain": [
       "[('Q1', (['What is ..?'], ['It is ..', 'I think it is ..'])),\n",
       " ('Q2', (['Who invented ..'], ['John Smith']))]"
      ]
     },
     "execution_count": 23,
     "metadata": {},
     "output_type": "execute_result"
    }
   ],
   "source": [
    "combinedRDD = pairQuestionsRDD.cogroup(pairAnswersRDD)\\\n",
    "                              .mapValues(lambda pair: (list(pair[0]), list(pair[1])))\n",
    "combinedRDD.collect()"
   ]
  },
  {
   "cell_type": "code",
   "execution_count": 24,
   "id": "based-scanner",
   "metadata": {},
   "outputs": [],
   "source": [
    "combinedRDD.saveAsTextFile(outputPath)"
   ]
  },
  {
   "cell_type": "code",
   "execution_count": null,
   "id": "aggressive-toddler",
   "metadata": {},
   "outputs": [],
   "source": []
  }
 ],
 "metadata": {
  "kernelspec": {
   "display_name": "PySpark (Local)",
   "language": "python",
   "name": "pyspark_local"
  },
  "language_info": {
   "codemirror_mode": {
    "name": "ipython",
    "version": 3
   },
   "file_extension": ".py",
   "mimetype": "text/x-python",
   "name": "python",
   "nbconvert_exporter": "python",
   "pygments_lexer": "ipython3",
   "version": "3.7.9"
  }
 },
 "nbformat": 4,
 "nbformat_minor": 5
}
