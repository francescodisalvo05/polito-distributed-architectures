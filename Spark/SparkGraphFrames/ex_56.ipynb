{
 "cells": [
  {
   "cell_type": "markdown",
   "id": "persistent-daughter",
   "metadata": {},
   "source": [
    "## Exercise 56 - MOTIF"
   ]
  },
  {
   "cell_type": "code",
   "execution_count": 21,
   "id": "proprietary-material",
   "metadata": {},
   "outputs": [],
   "source": [
    "from graphframes import GraphFrame\n",
    "\n",
    "inputPathVertexes = \"/data/students/bigdata-01QYD/ex_data/Ex56/data/vertexes.csv\"\n",
    "inputPathEdges = \"/data/students/bigdata-01QYD/ex_data/Ex56/data/edges.csv\"\n",
    "outputPath = \"resOut_ex56/\""
   ]
  },
  {
   "cell_type": "code",
   "execution_count": 2,
   "id": "respective-lesson",
   "metadata": {},
   "outputs": [],
   "source": [
    "verticesDF = spark.read.load(inputPathVertexes, format=\"csv\", header=True, inferSchema=True)\n",
    "edgesDF = spark.read.load(inputPathEdges, format=\"csv\", header=True, inferSchema=True)"
   ]
  },
  {
   "cell_type": "code",
   "execution_count": 3,
   "id": "modern-guarantee",
   "metadata": {},
   "outputs": [
    {
     "name": "stdout",
     "output_type": "stream",
     "text": [
      "+---+----------+--------+\n",
      "| id|entityName|    name|\n",
      "+---+----------+--------+\n",
      "| V1|      user|   Paolo|\n",
      "| V2|     topic|     SQL|\n",
      "| V3|      user|   David|\n",
      "| V4|     topic|Big Data|\n",
      "| V5|      user|    John|\n",
      "+---+----------+--------+\n",
      "\n"
     ]
    }
   ],
   "source": [
    "verticesDF.show()"
   ]
  },
  {
   "cell_type": "code",
   "execution_count": 4,
   "id": "assigned-rebound",
   "metadata": {},
   "outputs": [
    {
     "name": "stdout",
     "output_type": "stream",
     "text": [
      "+---+---+----------+\n",
      "|src|dst|  linktype|\n",
      "+---+---+----------+\n",
      "| V1| V2|      like|\n",
      "| V1| V3|    follow|\n",
      "| V1| V4|    follow|\n",
      "| V3| V2|    follow|\n",
      "| V3| V4|    follow|\n",
      "| V5| V2|  expertOf|\n",
      "| V2| V4|correlated|\n",
      "| V4| V2|correlated|\n",
      "+---+---+----------+\n",
      "\n"
     ]
    }
   ],
   "source": [
    "edgesDF.show()"
   ]
  },
  {
   "cell_type": "markdown",
   "id": "unsigned-jenny",
   "metadata": {},
   "source": [
    "Output:\n",
    "* The names of the users who follow a topic correlated with the “Big Data” topic\n",
    "* One user name per line\n",
    "* Format: username\n",
    "* Use the CSV format to store the result"
   ]
  },
  {
   "cell_type": "code",
   "execution_count": 19,
   "id": "retired-spectacular",
   "metadata": {},
   "outputs": [
    {
     "name": "stdout",
     "output_type": "stream",
     "text": [
      "+--------+\n",
      "|username|\n",
      "+--------+\n",
      "|   David|\n",
      "+--------+\n",
      "\n"
     ]
    }
   ],
   "source": [
    "g = GraphFrame(verticesDF, edgesDF)\n",
    "selectedPaths = g.find(\"(user)-[follow]->(topic);(topic)-[correlated]->(topic2)\")\n",
    "\n",
    "filteredSelectedPaths = selectedPaths.filter(\"user.entityName == 'user' AND \\\n",
    "                                              follow.linktype == 'follow' AND \\\n",
    "                                              topic.entityName == 'topic' AND \\\n",
    "                                              correlated.linktype == 'correlated' AND \\\n",
    "                                              topic2.name == 'Big Data'\")\n",
    "\n",
    "cleanedOutputDF = filteredSelectedPaths.selectExpr(\"user.name as username\")\n",
    "cleanedOutputDF.show()"
   ]
  },
  {
   "cell_type": "code",
   "execution_count": 22,
   "id": "based-webmaster",
   "metadata": {},
   "outputs": [],
   "source": [
    "cleanedOutputDF.write.csv(outputPath, header=True)"
   ]
  }
 ],
 "metadata": {
  "kernelspec": {
   "display_name": "GraphFrames (Yarn)",
   "language": "python",
   "name": "graphframe_yarn"
  },
  "language_info": {
   "codemirror_mode": {
    "name": "ipython",
    "version": 3
   },
   "file_extension": ".py",
   "mimetype": "text/x-python",
   "name": "python",
   "nbconvert_exporter": "python",
   "pygments_lexer": "ipython3",
   "version": "3.7.9"
  }
 },
 "nbformat": 4,
 "nbformat_minor": 5
}
