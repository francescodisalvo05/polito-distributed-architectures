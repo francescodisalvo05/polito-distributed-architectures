{
 "cells": [
  {
   "cell_type": "markdown",
   "id": "covered-saturday",
   "metadata": {},
   "source": [
    "## Exercise 55 - MOTIF"
   ]
  },
  {
   "cell_type": "code",
   "execution_count": 6,
   "id": "strange-administrator",
   "metadata": {},
   "outputs": [],
   "source": [
    "from graphframes import GraphFrame\n",
    "\n",
    "inputPathVertexes = \"/data/students/bigdata-01QYD/ex_data/Ex55/data/vertexes.csv\"\n",
    "inputPathEdges = \"/data/students/bigdata-01QYD/ex_data/Ex55/data/edges.csv\"\n",
    "outputPath = \"resOut_ex55/\""
   ]
  },
  {
   "cell_type": "code",
   "execution_count": 2,
   "id": "starting-passenger",
   "metadata": {},
   "outputs": [],
   "source": [
    "verticesDF = spark.read.load(inputPathVertexes, format=\"csv\", header=True, inferSchema=True)\n",
    "edgesDF = spark.read.load(inputPathEdges, format=\"csv\", header=True, inferSchema=True)"
   ]
  },
  {
   "cell_type": "code",
   "execution_count": 3,
   "id": "divine-tennis",
   "metadata": {},
   "outputs": [
    {
     "name": "stdout",
     "output_type": "stream",
     "text": [
      "+---+----------+--------+\n",
      "| id|entityName|    name|\n",
      "+---+----------+--------+\n",
      "| V1|      user|   Paolo|\n",
      "| V2|     topic|     SQL|\n",
      "| V3|      user|   David|\n",
      "| V4|     topic|Big Data|\n",
      "| V5|      user|    John|\n",
      "+---+----------+--------+\n",
      "\n"
     ]
    }
   ],
   "source": [
    "verticesDF.show()"
   ]
  },
  {
   "cell_type": "code",
   "execution_count": 4,
   "id": "numeric-wrong",
   "metadata": {},
   "outputs": [
    {
     "name": "stdout",
     "output_type": "stream",
     "text": [
      "+---+---+----------+\n",
      "|src|dst|  linktype|\n",
      "+---+---+----------+\n",
      "| V1| V2|      like|\n",
      "| V1| V3|    follow|\n",
      "| V1| V4|    follow|\n",
      "| V3| V2|    follow|\n",
      "| V3| V4|    follow|\n",
      "| V5| V2|  expertOf|\n",
      "| V2| V4|correlated|\n",
      "| V4| V2|correlated|\n",
      "+---+---+----------+\n",
      "\n"
     ]
    }
   ],
   "source": [
    "edgesDF.show()"
   ]
  },
  {
   "cell_type": "markdown",
   "id": "practical-essay",
   "metadata": {},
   "source": [
    "Output:\n",
    "* The followed topics for each user\n",
    "* One pair (user name, followed topic) per line\n",
    "* Format: username, followed topic\n",
    "* Use the CSV format to store the result"
   ]
  },
  {
   "cell_type": "code",
   "execution_count": 11,
   "id": "negative-founder",
   "metadata": {},
   "outputs": [
    {
     "name": "stdout",
     "output_type": "stream",
     "text": [
      "+-----------------+----------------+--------------------+\n",
      "|                x|          follow|                   y|\n",
      "+-----------------+----------------+--------------------+\n",
      "|[V1, user, Paolo]|[V1, V3, follow]|   [V3, user, David]|\n",
      "|[V1, user, Paolo]|[V1, V4, follow]|[V4, topic, Big D...|\n",
      "|[V3, user, David]|[V3, V2, follow]|    [V2, topic, SQL]|\n",
      "|[V3, user, David]|[V3, V4, follow]|[V4, topic, Big D...|\n",
      "+-----------------+----------------+--------------------+\n",
      "\n"
     ]
    }
   ],
   "source": [
    "filteredEdges = edgesDF.filter(\"linktype='follow' \")\n",
    "g = GraphFrame(verticesDF, filteredEdges)\n",
    "\n",
    "selectedPaths = g.find(\"(x)-[follow]->(y)\")\n",
    "selectedPaths.show()"
   ]
  },
  {
   "cell_type": "code",
   "execution_count": 14,
   "id": "sticky-cycling",
   "metadata": {},
   "outputs": [
    {
     "name": "stdout",
     "output_type": "stream",
     "text": [
      "+-----------------+----------------+--------------------+\n",
      "|                x|          follow|                   y|\n",
      "+-----------------+----------------+--------------------+\n",
      "|[V1, user, Paolo]|[V1, V4, follow]|[V4, topic, Big D...|\n",
      "|[V3, user, David]|[V3, V2, follow]|    [V2, topic, SQL]|\n",
      "|[V3, user, David]|[V3, V4, follow]|[V4, topic, Big D...|\n",
      "+-----------------+----------------+--------------------+\n",
      "\n"
     ]
    }
   ],
   "source": [
    "filteredSelectedPaths = selectedPaths.filter(\"y.entityName == 'topic' \")\n",
    "filteredSelectedPaths.show()"
   ]
  },
  {
   "cell_type": "code",
   "execution_count": 15,
   "id": "recovered-oregon",
   "metadata": {},
   "outputs": [
    {
     "name": "stdout",
     "output_type": "stream",
     "text": [
      "+--------+--------+\n",
      "|username|   topic|\n",
      "+--------+--------+\n",
      "|   Paolo|Big Data|\n",
      "|   David|     SQL|\n",
      "|   David|Big Data|\n",
      "+--------+--------+\n",
      "\n"
     ]
    }
   ],
   "source": [
    "cleanedOutputDF = filteredSelectedPaths.selectExpr(\"x.name as username\", \"y.name as topic\")\n",
    "cleanedOutputDF.show()"
   ]
  },
  {
   "cell_type": "code",
   "execution_count": null,
   "id": "lesser-gravity",
   "metadata": {},
   "outputs": [],
   "source": [
    "cleanedOutputDF.write.csv(ouputPath, header=True)"
   ]
  }
 ],
 "metadata": {
  "kernelspec": {
   "display_name": "GraphFrames (Yarn)",
   "language": "python",
   "name": "graphframe_yarn"
  },
  "language_info": {
   "codemirror_mode": {
    "name": "ipython",
    "version": 3
   },
   "file_extension": ".py",
   "mimetype": "text/x-python",
   "name": "python",
   "nbconvert_exporter": "python",
   "pygments_lexer": "ipython3",
   "version": "3.7.9"
  }
 },
 "nbformat": 4,
 "nbformat_minor": 5
}
