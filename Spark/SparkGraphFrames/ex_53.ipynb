{
 "cells": [
  {
   "cell_type": "markdown",
   "id": "intensive-proof",
   "metadata": {},
   "source": [
    "## Exercise 53 - inDegrees + Max"
   ]
  },
  {
   "cell_type": "code",
   "execution_count": 1,
   "id": "olympic-dispatch",
   "metadata": {},
   "outputs": [],
   "source": [
    "from graphframes import GraphFrame\n",
    "\n",
    "inputPathVertexes = \"/data/students/bigdata-01QYD/ex_data/Ex53/data/vertexes.csv\"\n",
    "inputPathEdges = \"/data/students/bigdata-01QYD/ex_data/Ex53/data/edges.csv\"\n",
    "outputPath = \"resOut_ex53/\""
   ]
  },
  {
   "cell_type": "code",
   "execution_count": 3,
   "id": "fifth-background",
   "metadata": {},
   "outputs": [],
   "source": [
    "verticesDF = spark.read.load(inputPathVertexes, format=\"csv\", header=True, inferSchema=True)\n",
    "edgesDF = spark.read.load(inputPathEdges, format=\"csv\", header=True, inferSchema=True)"
   ]
  },
  {
   "cell_type": "code",
   "execution_count": 4,
   "id": "continued-motion",
   "metadata": {},
   "outputs": [
    {
     "name": "stdout",
     "output_type": "stream",
     "text": [
      "root\n",
      " |-- id: string (nullable = true)\n",
      " |-- name: string (nullable = true)\n",
      " |-- age: integer (nullable = true)\n",
      "\n",
      "+---+-----+---+\n",
      "| id| name|age|\n",
      "+---+-----+---+\n",
      "| u1|Alice| 34|\n",
      "| u2|  Bob| 36|\n",
      "| u3| John| 30|\n",
      "| u4|David| 29|\n",
      "| u5| Paul| 32|\n",
      "| u6| Adel| 36|\n",
      "| u7| Eddy| 60|\n",
      "+---+-----+---+\n",
      "\n"
     ]
    }
   ],
   "source": [
    "verticesDF.printSchema()\n",
    "verticesDF.show()"
   ]
  },
  {
   "cell_type": "code",
   "execution_count": 5,
   "id": "skilled-league",
   "metadata": {},
   "outputs": [
    {
     "name": "stdout",
     "output_type": "stream",
     "text": [
      "root\n",
      " |-- src: string (nullable = true)\n",
      " |-- dst: string (nullable = true)\n",
      " |-- linktype: string (nullable = true)\n",
      "\n",
      "+---+---+--------+\n",
      "|src|dst|linktype|\n",
      "+---+---+--------+\n",
      "| u1| u2|  friend|\n",
      "| u1| u4|  friend|\n",
      "| u1| u5|  friend|\n",
      "| u2| u1|  friend|\n",
      "| u2| u3|  follow|\n",
      "| u3| u2|  follow|\n",
      "| u4| u1|  friend|\n",
      "| u4| u5|  friend|\n",
      "| u5| u1|  friend|\n",
      "| u5| u4|  friend|\n",
      "| u5| u6|  follow|\n",
      "| u6| u3|  follow|\n",
      "| u7| u6|  follow|\n",
      "+---+---+--------+\n",
      "\n"
     ]
    }
   ],
   "source": [
    "edgesDF.printSchema()\n",
    "edgesDF.show()"
   ]
  },
  {
   "cell_type": "markdown",
   "id": "czech-circular",
   "metadata": {},
   "source": [
    "Consider only the users with at least one follower. Store in the output folder the user(s) with the maximum number of followers <br />\n",
    "▪ One user per line <br />\n",
    "▪ Format: user id, number of followers <br />\n",
    "\n",
    "Use the CSV format to store the result"
   ]
  },
  {
   "cell_type": "code",
   "execution_count": 24,
   "id": "destroyed-president",
   "metadata": {},
   "outputs": [],
   "source": [
    "filteredEdges = edgesDF.filter(\"linktype = 'follow'\")\n",
    "g = GraphFrame(verticesDF, filteredEdges)"
   ]
  },
  {
   "cell_type": "code",
   "execution_count": 25,
   "id": "tribal-helicopter",
   "metadata": {},
   "outputs": [
    {
     "name": "stdout",
     "output_type": "stream",
     "text": [
      "+---+----------+\n",
      "| id|nFollowers|\n",
      "+---+----------+\n",
      "| u3|         2|\n",
      "| u6|         2|\n",
      "| u2|         1|\n",
      "+---+----------+\n",
      "\n"
     ]
    }
   ],
   "source": [
    "nFollowersDF = g.inDegrees.withColumnRenamed(\"inDegree\",\"nFollowers\")\n",
    "nFollowersDF.show()"
   ]
  },
  {
   "cell_type": "code",
   "execution_count": 26,
   "id": "marine-edgar",
   "metadata": {},
   "outputs": [],
   "source": [
    "# compute the \"max\" function\n",
    "# it will return a DF with just one row and one column \"max(nFollowers)\"\n",
    "# rename it into \"maxFollowes\"\n",
    "# the the first (and the only one) row\n",
    "# get the element from the column \"maxFollowers\"\n",
    "maxFollowers = nFollowersDF.agg({\"nFollowers\" : \"max\"})\\\n",
    "                           .withColumnRenamed(\"max(nFollowers)\",\"maxFollowers\")\\\n",
    "                           .first()\\\n",
    "                           .maxFollowers"
   ]
  },
  {
   "cell_type": "code",
   "execution_count": 27,
   "id": "dress-pharmacy",
   "metadata": {},
   "outputs": [
    {
     "data": {
      "text/plain": [
       "2"
      ]
     },
     "execution_count": 27,
     "metadata": {},
     "output_type": "execute_result"
    }
   ],
   "source": [
    "maxFollowers"
   ]
  },
  {
   "cell_type": "code",
   "execution_count": 28,
   "id": "automated-partnership",
   "metadata": {},
   "outputs": [
    {
     "name": "stdout",
     "output_type": "stream",
     "text": [
      "+---+----------+\n",
      "| id|nFollowers|\n",
      "+---+----------+\n",
      "| u3|         2|\n",
      "| u6|         2|\n",
      "+---+----------+\n",
      "\n"
     ]
    }
   ],
   "source": [
    "# filter the rows from nFollowersDF that has \n",
    "# a number of followes equal to \"maxFollowers\"\n",
    "filteredUsers = nFollowersDF.filter(nFollowersDF.nFollowers == maxFollowers)\n",
    "filteredUsers.show()"
   ]
  },
  {
   "cell_type": "code",
   "execution_count": 30,
   "id": "visible-origin",
   "metadata": {},
   "outputs": [],
   "source": [
    "filteredUsers.write.csv(outputPath, header=True)"
   ]
  }
 ],
 "metadata": {
  "kernelspec": {
   "display_name": "GraphFrames (Yarn)",
   "language": "python",
   "name": "graphframe_yarn"
  },
  "language_info": {
   "codemirror_mode": {
    "name": "ipython",
    "version": 3
   },
   "file_extension": ".py",
   "mimetype": "text/x-python",
   "name": "python",
   "nbconvert_exporter": "python",
   "pygments_lexer": "ipython3",
   "version": "3.7.9"
  }
 },
 "nbformat": 4,
 "nbformat_minor": 5
}
