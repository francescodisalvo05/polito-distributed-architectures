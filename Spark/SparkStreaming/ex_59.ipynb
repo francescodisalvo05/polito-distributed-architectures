{
 "cells": [
  {
   "cell_type": "markdown",
   "id": "juvenile-impact",
   "metadata": {},
   "source": [
    "## Exercise 59 - Count\n",
    "\n",
    "Reading : stationId,#freeslots,#usedslots,timestamp\n",
    "\n",
    "For each batch, print on the standard output the number of readings with a number of free slots equal to 0. Emit the results every two seconds, considering only the data sent on the last two seconds. "
   ]
  },
  {
   "cell_type": "code",
   "execution_count": 1,
   "id": "compound-design",
   "metadata": {},
   "outputs": [],
   "source": [
    "from pyspark.streaming import StreamingContext"
   ]
  },
  {
   "cell_type": "code",
   "execution_count": null,
   "id": "permanent-wrapping",
   "metadata": {},
   "outputs": [],
   "source": [
    "# create the spark object that wait for the \n",
    "# information every two seconds\n",
    "ssc = StreamingContext(sc,2)\n",
    "\n",
    "# the stream will be connected to localhost\n",
    "# through port 9999\n",
    "lineDStream = ssc.SocketTextStream(\"localhost\",9999)"
   ]
  },
  {
   "cell_type": "code",
   "execution_count": null,
   "id": "banner-delay",
   "metadata": {},
   "outputs": [],
   "source": [
    "# filter only the records with #freeslots == 0\n",
    "filteredDStream = lineDStream.filter(lambda line : line.split(\",\")[1] == \"0\")\n",
    "\n",
    "# count the number of rows\n",
    "numFullStations = filteredDStream.count()\n",
    "\n",
    "# print on the standard output\n",
    "numFullStations.pprint()"
   ]
  },
  {
   "cell_type": "code",
   "execution_count": null,
   "id": "pleasant-ultimate",
   "metadata": {},
   "outputs": [],
   "source": [
    "# start reading the incoming data\n",
    "ssc.start()"
   ]
  },
  {
   "cell_type": "code",
   "execution_count": null,
   "id": "advisory-batch",
   "metadata": {},
   "outputs": [],
   "source": [
    "# stay alive for at most 90 seconds\n",
    "ssc.awaitTerminationOrTimeout(90)\n",
    "# stop only the StreamingContext\n",
    "# but not the SparkContext\n",
    "ssc.stop(stopSparkContext=False)"
   ]
  }
 ],
 "metadata": {
  "kernelspec": {
   "display_name": "PySpark (Local)",
   "language": "python",
   "name": "pyspark_local"
  },
  "language_info": {
   "codemirror_mode": {
    "name": "ipython",
    "version": 3
   },
   "file_extension": ".py",
   "mimetype": "text/x-python",
   "name": "python",
   "nbconvert_exporter": "python",
   "pygments_lexer": "ipython3",
   "version": "3.7.9"
  }
 },
 "nbformat": 4,
 "nbformat_minor": 5
}
